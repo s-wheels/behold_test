{
 "cells": [
  {
   "cell_type": "code",
   "execution_count": 13,
   "id": "c968d899-b33d-43cc-be6f-d6d97b802353",
   "metadata": {},
   "outputs": [],
   "source": [
    "import os\n",
    "import torch\n",
    "from torch import nn\n",
    "import torch.nn.functional as F\n",
    "from torchvision import transforms\n",
    "import torchvision.models as models\n",
    "from torch.utils.data import Dataset, DataLoader, random_split"
   ]
  },
  {
   "cell_type": "code",
   "execution_count": 14,
   "id": "39b5042a-1868-418c-bbe9-83dac0706f77",
   "metadata": {},
   "outputs": [],
   "source": [
    "import pytorch_lightning as pl\n",
    "import pandas as pd\n",
    "from PIL import Image\n",
    "from sklearn import metrics"
   ]
  },
  {
   "cell_type": "code",
   "execution_count": 15,
   "id": "2a0b42e9-c279-425b-bb38-44c2f0c91d5b",
   "metadata": {},
   "outputs": [],
   "source": [
    "import cv2\n",
    "import seaborn as sns\n",
    "import numpy as np\n",
    "import matplotlib.pyplot as plt"
   ]
  },
  {
   "cell_type": "markdown",
   "id": "0d59adac-6792-43b4-ba37-9e759c8b10b1",
   "metadata": {
    "tags": []
   },
   "source": [
    "## Define Model"
   ]
  },
  {
   "cell_type": "code",
   "execution_count": 16,
   "id": "641b7a72-16f9-4249-9c6d-cc7d842f8c72",
   "metadata": {},
   "outputs": [],
   "source": [
    "class Classifier(pl.LightningModule):\n",
    "    def __init__(self, pos_weight : torch.Tensor = torch.Tensor(1)):\n",
    "        \"\"\"\n",
    "        Args:\n",
    "            pos_weight (tensor): weighting of positive class loss to negative class loss\n",
    "        \"\"\"\n",
    "        super(Classifier, self).__init__()\n",
    "        self.model = models.resnet18(pretrained=False)\n",
    "        # change 1st conv layer from 3 channel to 1 channel\n",
    "        self.model.conv1 = nn.Conv2d(1, 64, kernel_size=(7, 7), stride=(2, 2), padding=(3, 3), bias=False)\n",
    "        #change to single output\n",
    "        self.model.fc = nn.Linear(self.model.fc.in_features, 1)\n",
    "        self.pos_weight = pos_weight\n",
    "        self.BCELoss = nn.BCEWithLogitsLoss(pos_weight=self.pos_weight)\n",
    "        self.sigmoid = nn.Sigmoid()\n",
    "        \n",
    "    def forward(self, x):\n",
    "        x = self.model(x)\n",
    "        return x\n",
    "    \n",
    "    def configure_optimizers(self):\n",
    "        optim_momentum = 0.2\n",
    "        optim_weight_decay = 1e-5\n",
    "        optim_lr = 0.01\n",
    "        optimizer = torch.optim.SGD(self.model.parameters(), lr=optim_lr,\n",
    "                                    momentum=optim_momentum,\n",
    "                                    weight_decay=optim_weight_decay\n",
    "                                   )\n",
    "        return optimizer\n",
    "    \n",
    "    def BCE_loss(self, logits, labels):\n",
    "        return self.BCELoss(logits, labels.float())\n",
    "    \n",
    "    def training_step(self, train_batch, batch_idx):\n",
    "        x, y = train_batch\n",
    "        logits = self.forward(x)   # we already defined forward and loss in the lightning module. We'll show the full code next\n",
    "        logits = torch.flatten(logits)\n",
    "        loss = self.BCE_loss(logits, y)\n",
    "        return loss\n",
    "\n",
    "    def validation_step(self, val_batch, batch_idx):\n",
    "        x, y = val_batch\n",
    "        logits = self.forward(x)\n",
    "        logits = torch.flatten(logits)\n",
    "        loss = self.BCE_loss(logits, y)\n",
    "        self.log('val_loss', loss)\n",
    "        \n",
    "    def predict(self, x):\n",
    "        x = self.model(x)\n",
    "        x = self.sigmoid(x)\n",
    "        return x"
   ]
  },
  {
   "cell_type": "code",
   "execution_count": 17,
   "id": "3e0bd628-6a22-457d-9327-ee01b1d2d78d",
   "metadata": {},
   "outputs": [],
   "source": [
    "class CXRDataset(Dataset):\n",
    "    def __init__(self, excel_path : str = \"./\", img_dir : str = \"./\",\n",
    "                 img_brt_std : float = 0.10448302):\n",
    "        \"\"\"\n",
    "        Args:\n",
    "            excel_path (string): Path to excel file with ids and labels.\n",
    "            img_dir (string): Directory with all the png images.\n",
    "            img_brt_std (float): Standard deviation of brightness of training dataset.\n",
    "        \"\"\"\n",
    "        self.dataset = self.prepare_dataset(excel_path)\n",
    "        self.img_dir = img_dir\n",
    "        self.img_brt_std = img_brt_std\n",
    "        self.transform = transforms.Compose([\n",
    "            transforms.ToTensor(),\n",
    "            transforms.RandomHorizontalFlip(),\n",
    "            #transforms.ColorJitter(brightness=img_brt_std),\n",
    "            transforms.Normalize(mean=[0.5], std=[0.5])\n",
    "        ])\n",
    "        \n",
    "    def prepare_dataset(self, excel_path):\n",
    "        df = pd.read_excel(excel_path)\n",
    "        df = df.sort_values(by='Abnormal', ascending=False)\n",
    "        df = df.drop_duplicates(subset=\"image_id\", keep=\"first\")\n",
    "        df = df.sample(frac=1).reset_index(drop=True)\n",
    "        return df\n",
    "        \n",
    "    def __len__(self):\n",
    "        return len(self.dataset)\n",
    "    \n",
    "    def __getitem__(self, idx):\n",
    "        img_path = os.path.join(self.img_dir, self.dataset['image_id'].iloc[idx] + '.png')\n",
    "        image = Image.open(img_path)\n",
    "        image = self.transform(image)\n",
    "        label = self.dataset['Nodule/Mass'].iloc[idx]\n",
    "        uuid = self.dataset['image_id'].iloc[idx]\n",
    "        return image, label"
   ]
  },
  {
   "cell_type": "code",
   "execution_count": 18,
   "id": "0dfbd9e1-2af8-4f23-84a8-fdff8ef4367a",
   "metadata": {},
   "outputs": [],
   "source": [
    "class DataModule(pl.LightningDataModule):\n",
    "    def __init__(self, img_dir: str = \"./\", train_file: str = \"./\",\n",
    "                 val_file:str=\"./\", batch_size: int = 24):\n",
    "        \"\"\"\n",
    "        Args:\n",
    "            img_dir (string): Directory with all the png images.\n",
    "            train_file (string): path to train image excel\n",
    "            val_file (string): path to validation image excel\n",
    "            batch_size (int): batch size for training\n",
    "        \"\"\"\n",
    "        super().__init__()\n",
    "        self.img_dir = img_dir\n",
    "        self.train_file = train_file\n",
    "        self.val_file = val_file\n",
    "        self.batch_size = batch_size\n",
    "        self.num_workers = num_workers\n",
    "    \n",
    "    def prepare_data(self):\n",
    "        self.train_data = CXRDataset(self.train_file, self.img_dir)\n",
    "        self.val_data = CXRDataset(self.val_file, self.img_dir)\n",
    "        \n",
    "    def train_dataloader(self):\n",
    "        return DataLoader(self.train_data, batch_size=self.batch_size)\n",
    "\n",
    "    def val_dataloader(self):\n",
    "        return DataLoader(self.val_data, batch_size=self.batch_size)\n",
    "        "
   ]
  },
  {
   "cell_type": "markdown",
   "id": "2d5182d5-8bb6-4474-a6c3-21b25646e4f5",
   "metadata": {},
   "source": [
    "## Train Model"
   ]
  },
  {
   "cell_type": "code",
   "execution_count": 19,
   "id": "76c01494-6ba9-48cb-9f96-03edf29140e6",
   "metadata": {},
   "outputs": [],
   "source": [
    "dataset = DataModule('imgs/', './train.xlsx', './test.xlsx')\n",
    "dataset.prepare_data()"
   ]
  },
  {
   "cell_type": "code",
   "execution_count": 20,
   "id": "a8b44bfa-b9c2-4c68-bc4b-a615ad8ba2c1",
   "metadata": {},
   "outputs": [],
   "source": [
    "num_pos = dataset.train_data.dataset['Nodule/Mass'].sum()\n",
    "num_neg = len(dataset.train_data.dataset['Nodule/Mass']) - num_pos\n",
    "pos_weight = torch.Tensor([num_neg / num_pos])"
   ]
  },
  {
   "cell_type": "code",
   "execution_count": 21,
   "id": "c8c2e8aa-06a9-48c8-90e4-86f16d4d5c85",
   "metadata": {},
   "outputs": [],
   "source": [
    "model = Classifier(pos_weight=pos_weight)"
   ]
  },
  {
   "cell_type": "code",
   "execution_count": 24,
   "id": "17c5a89e-e79e-4ecc-8ea2-5a1b0a7edd12",
   "metadata": {
    "tags": []
   },
   "outputs": [
    {
     "name": "stderr",
     "output_type": "stream",
     "text": [
      "GPU available: False, used: False\n",
      "TPU available: False, using: 0 TPU cores\n",
      "IPU available: False, using: 0 IPUs\n"
     ]
    }
   ],
   "source": [
    "trainer = pl.Trainer(resume_from_checkpoint='lightning_logs/version_15/checkpoints/epoch=19-step=8339.ckpt',\n",
    "                     checkpoint_callback=True, max_epochs=20, logger=True)"
   ]
  },
  {
   "cell_type": "code",
   "execution_count": 25,
   "id": "8736d74f-bee7-4af6-b3b1-8186cd89e7d0",
   "metadata": {
    "tags": []
   },
   "outputs": [
    {
     "name": "stderr",
     "output_type": "stream",
     "text": [
      "Restoring states from the checkpoint file at lightning_logs/version_15/checkpoints/epoch=19-step=8339.ckpt\n",
      "Restored all states from the checkpoint file at lightning_logs/version_15/checkpoints/epoch=19-step=8339.ckpt\n",
      "\n",
      "  | Name    | Type              | Params\n",
      "----------------------------------------------\n",
      "0 | model   | ResNet            | 11.2 M\n",
      "1 | BCELoss | BCEWithLogitsLoss | 0     \n",
      "2 | sigmoid | Sigmoid           | 0     \n",
      "----------------------------------------------\n",
      "11.2 M    Trainable params\n",
      "0         Non-trainable params\n",
      "11.2 M    Total params\n",
      "44.683    Total estimated model params size (MB)\n"
     ]
    },
    {
     "name": "stdout",
     "output_type": "stream",
     "text": [
      "Validation sanity check:   0%|          | 0/2 [00:00<?, ?it/s]"
     ]
    },
    {
     "name": "stderr",
     "output_type": "stream",
     "text": [
      "/Users/maia/miniforge3/envs/pytorch-lightning/lib/python3.9/site-packages/pytorch_lightning/trainer/data_loading.py:105: UserWarning: The dataloader, val dataloader 0, does not have many workers which may be a bottleneck. Consider increasing the value of the `num_workers` argument` (try 8 which is the number of cpus on this machine) in the `DataLoader` init to improve performance.\n",
      "  rank_zero_warn(\n"
     ]
    },
    {
     "name": "stdout",
     "output_type": "stream",
     "text": [
      "                                                                      \r"
     ]
    },
    {
     "name": "stderr",
     "output_type": "stream",
     "text": [
      "/Users/maia/miniforge3/envs/pytorch-lightning/lib/python3.9/site-packages/pytorch_lightning/trainer/data_loading.py:105: UserWarning: The dataloader, train dataloader, does not have many workers which may be a bottleneck. Consider increasing the value of the `num_workers` argument` (try 8 which is the number of cpus on this machine) in the `DataLoader` init to improve performance.\n",
      "  rank_zero_warn(\n"
     ]
    }
   ],
   "source": [
    "trainer.fit(model, dataset.train_dataloader(), dataset.val_dataloader())\n",
    "trainer.save_checkpoint(\"models/node_improved_model_3-sgd-nobri.ckpt\")"
   ]
  },
  {
   "cell_type": "markdown",
   "id": "a4c1cff9-476f-4f6e-9769-62d394888fb8",
   "metadata": {},
   "source": [
    "EPOCH FIN NO BRIGHTNESS"
   ]
  },
  {
   "cell_type": "code",
   "execution_count": 61,
   "id": "a8e21bfa-9a18-49a0-9382-9446c8cc8872",
   "metadata": {},
   "outputs": [],
   "source": [
    "sgd_nobr_model = Classifier()"
   ]
  },
  {
   "cell_type": "code",
   "execution_count": 84,
   "id": "e6e19081-88cf-4f0b-81c1-2c112b0ed6a7",
   "metadata": {},
   "outputs": [],
   "source": [
    "sgd_nobr_model = sgd_nobr_model.load_from_checkpoint(checkpoint_path=\"lightning_logs/version_15/checkpoints/epoch=19-step=8339.ckpt\")"
   ]
  },
  {
   "cell_type": "code",
   "execution_count": 85,
   "id": "83e9e16c-f01b-4edc-8610-0ee8c2a3b4da",
   "metadata": {},
   "outputs": [],
   "source": [
    "labels, pred_list = validate(model, dataset.val_dataloader())"
   ]
  },
  {
   "cell_type": "code",
   "execution_count": 110,
   "id": "40ed3c01-ed32-4699-8fd3-27343e36b661",
   "metadata": {},
   "outputs": [],
   "source": [
    "results = analysis(labels, pred_list, threshold=0.05)"
   ]
  },
  {
   "cell_type": "code",
   "execution_count": 111,
   "id": "3ceb63ed-b931-4762-914c-bd2e82c54d00",
   "metadata": {},
   "outputs": [
    {
     "data": {
      "text/plain": [
       "0.8157416089564717"
      ]
     },
     "execution_count": 111,
     "metadata": {},
     "output_type": "execute_result"
    }
   ],
   "source": [
    "results['auc']"
   ]
  },
  {
   "cell_type": "code",
   "execution_count": 112,
   "id": "f531b066-67d4-49cc-a37b-18b2892e5422",
   "metadata": {},
   "outputs": [
    {
     "data": {
      "text/plain": [
       "array([0.96782497, 0.20852018])"
      ]
     },
     "execution_count": 112,
     "metadata": {},
     "output_type": "execute_result"
    }
   ],
   "source": [
    "results['precision']"
   ]
  },
  {
   "cell_type": "code",
   "execution_count": 113,
   "id": "35a039bb-22a1-420a-8c82-8102a6a01b3d",
   "metadata": {},
   "outputs": [
    {
     "data": {
      "text/plain": [
       "array([0.80990845, 0.65034965])"
      ]
     },
     "execution_count": 113,
     "metadata": {},
     "output_type": "execute_result"
    }
   ],
   "source": [
    "results['recall']"
   ]
  },
  {
   "cell_type": "code",
   "execution_count": 114,
   "id": "9fcb28e6-244e-43e5-b673-3dc430a2b51b",
   "metadata": {},
   "outputs": [
    {
     "data": {
      "text/plain": [
       "array([0.88185283, 0.31578947])"
      ]
     },
     "execution_count": 114,
     "metadata": {},
     "output_type": "execute_result"
    }
   ],
   "source": [
    "results['fscore']"
   ]
  },
  {
   "cell_type": "code",
   "execution_count": 115,
   "id": "1e8570d9-9086-4afc-a141-00dafb67d530",
   "metadata": {},
   "outputs": [
    {
     "data": {
      "text/plain": [
       "array([0.96782497, 0.20852018])"
      ]
     },
     "execution_count": 115,
     "metadata": {},
     "output_type": "execute_result"
    }
   ],
   "source": [
    "results['precision']"
   ]
  },
  {
   "cell_type": "code",
   "execution_count": 116,
   "id": "452d4157-635f-4f29-809f-284ec5375fd2",
   "metadata": {},
   "outputs": [
    {
     "data": {
      "text/plain": [
       "array([0.80990845, 0.65034965])"
      ]
     },
     "execution_count": 116,
     "metadata": {},
     "output_type": "execute_result"
    }
   ],
   "source": [
    "results['recall']"
   ]
  },
  {
   "cell_type": "code",
   "execution_count": 117,
   "id": "99bbb78f-e726-4bdb-a61a-65b6d4782fcd",
   "metadata": {},
   "outputs": [
    {
     "data": {
      "text/plain": [
       "array([0.88185283, 0.31578947])"
      ]
     },
     "execution_count": 117,
     "metadata": {},
     "output_type": "execute_result"
    }
   ],
   "source": [
    "results['fscore']"
   ]
  },
  {
   "cell_type": "code",
   "execution_count": 118,
   "id": "56607a36-97a8-4b4a-87f2-7c2efe13d28b",
   "metadata": {
    "tags": []
   },
   "outputs": [
    {
     "data": {
      "image/png": "[encoded data removed]",
      "text/plain": [
       "<Figure size 432x288 with 2 Axes>"
      ]
     },
     "metadata": {
      "needs_background": "light"
     },
     "output_type": "display_data"
    }
   ],
   "source": [
    "plot_confusion_matrix(results['confusion_matrix'])"
   ]
  },
  {
   "cell_type": "code",
   "execution_count": 35,
   "id": "aeb3b3c0-da71-45a7-bf3b-53795463649c",
   "metadata": {},
   "outputs": [
    {
     "data": {
      "text/plain": [
       "array([1857,  143])"
      ]
     },
     "execution_count": 35,
     "metadata": {},
     "output_type": "execute_result"
    }
   ],
   "source": [
    "results['support']"
   ]
  },
  {
   "cell_type": "code",
   "execution_count": 44,
   "id": "804470f3-a155-40c1-b171-d376aa29db5c",
   "metadata": {},
   "outputs": [],
   "source": [
    "np.save('evaluation/sgd-nob_fpr.npy', results['fpr'])\n",
    "np.save('evaluation/sgd-nob_tpr.npy', results['tpr'])"
   ]
  },
  {
   "cell_type": "code",
   "execution_count": 50,
   "id": "efc62777-5bc1-4242-b6b9-2fc44664c23a",
   "metadata": {},
   "outputs": [],
   "source": [
    "base_fpr = np.load('evaluation/baseline_fpr.npy')\n",
    "base_tpr = np.load('evaluation/baseline_tpr.npy')\n",
    "adam_fpr = np.load('evaluation/adam_fpr.npy')\n",
    "adam_tpr = np.load('evaluation/adam_tpr.npy')\n",
    "sgd_nob_fpr = np.load('evaluation/sgd-nob_fpr.npy')\n",
    "sgd_nob_tpr = np.load('evaluation/sgd-nob_tpr.npy')"
   ]
  },
  {
   "cell_type": "code",
   "execution_count": 83,
   "id": "fb942c82-5e89-44a8-8481-aa78faa30986",
   "metadata": {},
   "outputs": [
    {
     "data": {
      "text/plain": [
       "<matplotlib.legend.Legend at 0x177d1de80>"
      ]
     },
     "execution_count": 83,
     "metadata": {},
     "output_type": "execute_result"
    },
    {
     "data": {
      "image/png": "[encoded data removed]",
      "text/plain": [
       "<Figure size 432x288 with 1 Axes>"
      ]
     },
     "metadata": {
      "needs_background": "light"
     },
     "output_type": "display_data"
    }
   ],
   "source": [
    "#plt.plot(base_fpr, base_tpr, label='Baseline')\n",
    "plt.plot(sgd_nob_fpr, sgd_nob_tpr, label='SGD (no bright)')\n",
    "plt.plot(results['fpr'], results['tpr'], label='SGD 2 (no bright)')\n",
    "#plt.plot(adam_fpr, adam_tpr, label='Adam')\n",
    "plt.ylabel('True Positive Rate')\n",
    "plt.xlabel('False Positive Rate')\n",
    "plt.title('ROC Curve')\n",
    "plt.legend()"
   ]
  },
  {
   "cell_type": "code",
   "execution_count": 132,
   "id": "9946af1f-e2f0-446d-94ef-9c53bf5690b0",
   "metadata": {},
   "outputs": [],
   "source": [
    "roc_curve = metrics.RocCurveDisplay(fpr=base_fpr, tpr=base_tpr)"
   ]
  },
  {
   "cell_type": "code",
   "execution_count": 136,
   "id": "e10a0dca-8f1f-4c3e-9b61-dd8dd6d727d7",
   "metadata": {},
   "outputs": [
    {
     "name": "stdout",
     "output_type": "stream",
     "text": [
      " AUC: 0.8174889192659791 \n",
      " Precision:  [0.97902622 0.17293233] \n",
      " Recall:  [0.70382337 0.8041958 ] \n",
      " F-Score:  [0.81892231 0.28465347]\n"
     ]
    }
   ],
   "source": [
    "print(' AUC:', results['auc'], '\\n Precision: ', results['precision'],\n",
    "      '\\n Recall: ', results['recall'], '\\n F-Score: ', results['fscore'])"
   ]
  },
  {
   "cell_type": "code",
   "execution_count": null,
   "id": "ff5009cd-95ab-4e1a-9737-cd0b1c604329",
   "metadata": {},
   "outputs": [],
   "source": [
    "roc_curve = metrics.RocCurveDisplay(fpr=base_fpr, tpr=base_tpr)"
   ]
  },
  {
   "cell_type": "code",
   "execution_count": 134,
   "id": "fc19d84b-62ad-4127-a0d5-1b040f83aa21",
   "metadata": {},
   "outputs": [
    {
     "data": {
      "text/plain": [
       "<sklearn.metrics._plot.roc_curve.RocCurveDisplay at 0x15f0b9be0>"
      ]
     },
     "execution_count": 134,
     "metadata": {},
     "output_type": "execute_result"
    },
    {
     "data": {
      "image/png": "[encoded data removed]",
      "text/plain": [
       "<Figure size 432x288 with 1 Axes>"
      ]
     },
     "metadata": {
      "needs_background": "light"
     },
     "output_type": "display_data"
    }
   ],
   "source": [
    "roc_curve.plot()"
   ]
  },
  {
   "cell_type": "code",
   "execution_count": 38,
   "id": "d00af98d-126c-4b4e-aa5a-0480d750f684",
   "metadata": {
    "tags": []
   },
   "outputs": [
    {
     "data": {
      "image/png": "[encoded data removed]",
      "text/plain": [
       "<Figure size 432x288 with 2 Axes>"
      ]
     },
     "metadata": {
      "needs_background": "light"
     },
     "output_type": "display_data"
    }
   ],
   "source": [
    "plot_confusion_matrix(results['confusion_matrix'])"
   ]
  },
  {
   "cell_type": "code",
   "execution_count": 39,
   "id": "c7190453-7380-4da5-97c0-43695ad49b13",
   "metadata": {},
   "outputs": [
    {
     "data": {
      "image/png": "[encoded data removed]",
      "text/plain": [
       "<Figure size 432x288 with 2 Axes>"
      ]
     },
     "metadata": {
      "needs_background": "light"
     },
     "output_type": "display_data"
    }
   ],
   "source": [
    "results = analysis(labels, pred_list, threshold=0.09)\n",
    "plot_confusion_matrix(results['confusion_matrix'])"
   ]
  },
  {
   "cell_type": "code",
   "execution_count": null,
   "id": "5afddcbf-0b40-496b-ba54-2b8266cceb0d",
   "metadata": {},
   "outputs": [],
   "source": []
  },
  {
   "cell_type": "code",
   "execution_count": null,
   "id": "b4531123-c5ee-41be-8c23-9e0a71eff39a",
   "metadata": {},
   "outputs": [],
   "source": []
  },
  {
   "cell_type": "markdown",
   "id": "d350018f-b76d-48fc-bf3e-0a0d5588db77",
   "metadata": {},
   "source": [
    "BRIGHTNESS SGD"
   ]
  },
  {
   "cell_type": "code",
   "execution_count": 37,
   "id": "011ea521-b0af-48d1-b121-7db5135c5e82",
   "metadata": {
    "tags": []
   },
   "outputs": [
    {
     "name": "stderr",
     "output_type": "stream",
     "text": [
      "GPU available: False, used: False\n",
      "TPU available: False, using: 0 TPU cores\n",
      "IPU available: False, using: 0 IPUs\n"
     ]
    }
   ],
   "source": [
    "trainer = pl.Trainer(resume_from_checkpoint='models/node_improved_model_2-sgd-fe14.ckpt',\n",
    "                     checkpoint_callback=True, max_epochs=20, logger=True)"
   ]
  },
  {
   "cell_type": "code",
   "execution_count": 38,
   "id": "617ee183-7916-4574-868a-e272db13e377",
   "metadata": {
    "collapsed": true,
    "jupyter": {
     "outputs_hidden": true
    },
    "tags": []
   },
   "outputs": [
    {
     "name": "stderr",
     "output_type": "stream",
     "text": [
      "Restoring states from the checkpoint file at models/node_improved_model_2-sgd-fe14.ckpt\n",
      "Restored all states from the checkpoint file at models/node_improved_model_2-sgd-fe14.ckpt\n",
      "\n",
      "  | Name    | Type              | Params\n",
      "----------------------------------------------\n",
      "0 | model   | ResNet            | 11.2 M\n",
      "1 | BCELoss | BCEWithLogitsLoss | 0     \n",
      "2 | sigmoid | Sigmoid           | 0     \n",
      "----------------------------------------------\n",
      "11.2 M    Trainable params\n",
      "0         Non-trainable params\n",
      "11.2 M    Total params\n",
      "44.683    Total estimated model params size (MB)\n"
     ]
    },
    {
     "name": "stdout",
     "output_type": "stream",
     "text": [
      "Validation sanity check:   0%|          | 0/2 [00:00<?, ?it/s]"
     ]
    },
    {
     "name": "stderr",
     "output_type": "stream",
     "text": [
      "/Users/maia/miniforge3/envs/pytorch-lightning/lib/python3.9/site-packages/pytorch_lightning/trainer/data_loading.py:105: UserWarning: The dataloader, val dataloader 0, does not have many workers which may be a bottleneck. Consider increasing the value of the `num_workers` argument` (try 8 which is the number of cpus on this machine) in the `DataLoader` init to improve performance.\n",
      "  rank_zero_warn(\n"
     ]
    },
    {
     "name": "stdout",
     "output_type": "stream",
     "text": [
      "                                                                      "
     ]
    },
    {
     "name": "stderr",
     "output_type": "stream",
     "text": [
      "/Users/maia/miniforge3/envs/pytorch-lightning/lib/python3.9/site-packages/pytorch_lightning/trainer/data_loading.py:105: UserWarning: The dataloader, train dataloader, does not have many workers which may be a bottleneck. Consider increasing the value of the `num_workers` argument` (try 8 which is the number of cpus on this machine) in the `DataLoader` init to improve performance.\n",
      "  rank_zero_warn(\n"
     ]
    },
    {
     "name": "stdout",
     "output_type": "stream",
     "text": [
      "Epoch 14:  83%|████████▎ | 417/501 [27:54<05:36,  4.01s/it, loss=0.604, v_num=12]\n",
      "Validating: 0it [00:00, ?it/s]\u001b[A\n",
      "Validating:   0%|          | 0/84 [00:00<?, ?it/s]\u001b[A\n",
      "Epoch 14:  84%|████████▎ | 419/501 [27:55<05:27,  3.99s/it, loss=0.604, v_num=12]\n",
      "Validating:   2%|▏         | 2/84 [00:02<01:56,  1.42s/it]\u001b[A\n",
      "Epoch 14:  84%|████████▍ | 421/501 [27:58<05:18,  3.98s/it, loss=0.604, v_num=12]\n",
      "Validating:   5%|▍         | 4/84 [00:05<01:54,  1.43s/it]\u001b[A\n",
      "Epoch 14:  84%|████████▍ | 423/501 [28:01<05:09,  3.97s/it, loss=0.604, v_num=12]\n",
      "Validating:   7%|▋         | 6/84 [00:08<01:51,  1.43s/it]\u001b[A\n",
      "Epoch 14:  85%|████████▍ | 425/501 [28:04<05:00,  3.95s/it, loss=0.604, v_num=12]\n",
      "Validating:  10%|▉         | 8/84 [00:11<01:48,  1.42s/it]\u001b[A\n",
      "Epoch 14:  85%|████████▌ | 427/501 [28:07<04:51,  3.94s/it, loss=0.604, v_num=12]\n",
      "Validating:  12%|█▏        | 10/84 [00:14<01:45,  1.42s/it]\u001b[A\n",
      "Epoch 14:  86%|████████▌ | 429/501 [28:10<04:43,  3.93s/it, loss=0.604, v_num=12]\n",
      "Validating:  14%|█▍        | 12/84 [00:17<01:41,  1.42s/it]\u001b[A\n",
      "Epoch 14:  86%|████████▌ | 431/501 [28:12<04:34,  3.92s/it, loss=0.604, v_num=12]\n",
      "Validating:  17%|█▋        | 14/84 [00:19<01:39,  1.42s/it]\u001b[A\n",
      "Epoch 14:  86%|████████▋ | 433/501 [28:15<04:25,  3.91s/it, loss=0.604, v_num=12]\n",
      "Validating:  19%|█▉        | 16/84 [00:22<01:36,  1.42s/it]\u001b[A\n",
      "Epoch 14:  87%|████████▋ | 435/501 [28:18<04:17,  3.90s/it, loss=0.604, v_num=12]\n",
      "Validating:  21%|██▏       | 18/84 [00:25<01:33,  1.42s/it]\u001b[A\n",
      "Epoch 14:  87%|████████▋ | 437/501 [28:21<04:08,  3.88s/it, loss=0.604, v_num=12]\n",
      "Validating:  24%|██▍       | 20/84 [00:28<01:31,  1.42s/it]\u001b[A\n",
      "Epoch 14:  88%|████████▊ | 439/501 [28:24<04:00,  3.87s/it, loss=0.604, v_num=12]\n",
      "Validating:  26%|██▌       | 22/84 [00:31<01:28,  1.42s/it]\u001b[A\n",
      "Epoch 14:  88%|████████▊ | 441/501 [28:27<03:51,  3.86s/it, loss=0.604, v_num=12]\n",
      "Validating:  29%|██▊       | 24/84 [00:34<01:25,  1.42s/it]\u001b[A\n",
      "Epoch 14:  88%|████████▊ | 443/501 [28:30<03:43,  3.85s/it, loss=0.604, v_num=12]\n",
      "Validating:  31%|███       | 26/84 [00:36<01:22,  1.42s/it]\u001b[A\n",
      "Epoch 14:  89%|████████▉ | 445/501 [28:32<03:35,  3.84s/it, loss=0.604, v_num=12]\n",
      "Validating:  33%|███▎      | 28/84 [00:39<01:19,  1.42s/it]\u001b[A\n",
      "Epoch 14:  89%|████████▉ | 447/501 [28:35<03:26,  3.83s/it, loss=0.604, v_num=12]\n",
      "Validating:  36%|███▌      | 30/84 [00:42<01:16,  1.42s/it]\u001b[A\n",
      "Epoch 14:  90%|████████▉ | 449/501 [28:38<03:18,  3.82s/it, loss=0.604, v_num=12]\n",
      "Validating:  38%|███▊      | 32/84 [00:45<01:13,  1.42s/it]\u001b[A\n",
      "Epoch 14:  90%|█████████ | 451/501 [28:41<03:10,  3.81s/it, loss=0.604, v_num=12]\n",
      "Validating:  40%|████      | 34/84 [00:48<01:11,  1.43s/it]\u001b[A\n",
      "Epoch 14:  90%|█████████ | 453/501 [28:44<03:02,  3.80s/it, loss=0.604, v_num=12]\n",
      "Validating:  43%|████▎     | 36/84 [00:51<01:08,  1.42s/it]\u001b[A\n",
      "Epoch 14:  91%|█████████ | 455/501 [28:47<02:54,  3.79s/it, loss=0.604, v_num=12]\n",
      "Validating:  45%|████▌     | 38/84 [00:54<01:05,  1.43s/it]\u001b[A\n",
      "Epoch 14:  91%|█████████ | 457/501 [28:50<02:46,  3.78s/it, loss=0.604, v_num=12]\n",
      "Validating:  48%|████▊     | 40/84 [00:56<01:02,  1.42s/it]\u001b[A\n",
      "Epoch 14:  92%|█████████▏| 459/501 [28:52<02:38,  3.77s/it, loss=0.604, v_num=12]\n",
      "Validating:  50%|█████     | 42/84 [00:59<00:59,  1.43s/it]\u001b[A\n",
      "Epoch 14:  92%|█████████▏| 461/501 [28:55<02:30,  3.76s/it, loss=0.604, v_num=12]\n",
      "Validating:  52%|█████▏    | 44/84 [01:02<00:57,  1.43s/it]\u001b[A\n",
      "Epoch 14:  92%|█████████▏| 463/501 [28:58<02:22,  3.75s/it, loss=0.604, v_num=12]\n",
      "Validating:  55%|█████▍    | 46/84 [01:05<00:54,  1.43s/it]\u001b[A\n",
      "Epoch 14:  93%|█████████▎| 465/501 [29:01<02:14,  3.74s/it, loss=0.604, v_num=12]\n",
      "Validating:  57%|█████▋    | 48/84 [01:08<00:51,  1.42s/it]\u001b[A\n",
      "Epoch 14:  93%|█████████▎| 467/501 [29:04<02:06,  3.73s/it, loss=0.604, v_num=12]\n",
      "Validating:  60%|█████▉    | 50/84 [01:11<00:48,  1.43s/it]\u001b[A\n",
      "Epoch 14:  94%|█████████▎| 469/501 [29:07<01:58,  3.72s/it, loss=0.604, v_num=12]\n",
      "Validating:  62%|██████▏   | 52/84 [01:14<00:45,  1.43s/it]\u001b[A\n",
      "Epoch 14:  94%|█████████▍| 471/501 [29:10<01:51,  3.71s/it, loss=0.604, v_num=12]\n",
      "Validating:  64%|██████▍   | 54/84 [01:16<00:42,  1.43s/it]\u001b[A\n",
      "Epoch 14:  94%|█████████▍| 473/501 [29:12<01:43,  3.70s/it, loss=0.604, v_num=12]\n",
      "Validating:  67%|██████▋   | 56/84 [01:19<00:39,  1.43s/it]\u001b[A\n",
      "Epoch 14:  95%|█████████▍| 475/501 [29:15<01:35,  3.69s/it, loss=0.604, v_num=12]\n",
      "Validating:  69%|██████▉   | 58/84 [01:22<00:37,  1.42s/it]\u001b[A\n",
      "Epoch 14:  95%|█████████▌| 477/501 [29:18<01:28,  3.68s/it, loss=0.604, v_num=12]\n",
      "Validating:  71%|███████▏  | 60/84 [01:25<00:34,  1.42s/it]\u001b[A\n",
      "Epoch 14:  96%|█████████▌| 479/501 [29:21<01:20,  3.67s/it, loss=0.604, v_num=12]\n",
      "Validating:  74%|███████▍  | 62/84 [01:28<00:31,  1.43s/it]\u001b[A\n",
      "Epoch 14:  96%|█████████▌| 481/501 [29:24<01:13,  3.66s/it, loss=0.604, v_num=12]\n",
      "Validating:  76%|███████▌  | 64/84 [01:31<00:28,  1.43s/it]\u001b[A\n",
      "Epoch 14:  96%|█████████▋| 483/501 [29:27<01:05,  3.65s/it, loss=0.604, v_num=12]\n",
      "Validating:  79%|███████▊  | 66/84 [01:34<00:25,  1.43s/it]\u001b[A\n",
      "Epoch 14:  97%|█████████▋| 485/501 [29:30<00:58,  3.64s/it, loss=0.604, v_num=12]\n",
      "Validating:  81%|████████  | 68/84 [01:36<00:22,  1.42s/it]\u001b[A\n",
      "Epoch 14:  97%|█████████▋| 487/501 [29:32<00:50,  3.63s/it, loss=0.604, v_num=12]\n",
      "Validating:  83%|████████▎ | 70/84 [01:39<00:19,  1.42s/it]\u001b[A\n",
      "Epoch 14:  98%|█████████▊| 489/501 [29:35<00:43,  3.62s/it, loss=0.604, v_num=12]\n",
      "Validating:  86%|████████▌ | 72/84 [01:42<00:17,  1.42s/it]\u001b[A\n",
      "Epoch 14:  98%|█████████▊| 491/501 [29:38<00:36,  3.61s/it, loss=0.604, v_num=12]\n",
      "Validating:  88%|████████▊ | 74/84 [01:45<00:14,  1.42s/it]\u001b[A\n",
      "Epoch 14:  98%|█████████▊| 493/501 [29:41<00:28,  3.61s/it, loss=0.604, v_num=12]\n",
      "Validating:  90%|█████████ | 76/84 [01:48<00:11,  1.42s/it]\u001b[A\n",
      "Epoch 14:  99%|█████████▉| 495/501 [29:44<00:21,  3.60s/it, loss=0.604, v_num=12]\n",
      "Validating:  93%|█████████▎| 78/84 [01:51<00:08,  1.42s/it]\u001b[A\n",
      "Epoch 14:  99%|█████████▉| 497/501 [29:47<00:14,  3.59s/it, loss=0.604, v_num=12]\n",
      "Validating:  95%|█████████▌| 80/84 [01:53<00:05,  1.42s/it]\u001b[A\n",
      "Epoch 14: 100%|█████████▉| 499/501 [29:49<00:07,  3.58s/it, loss=0.604, v_num=12]\n",
      "Validating:  98%|█████████▊| 82/84 [01:56<00:02,  1.42s/it]\u001b[A\n",
      "Epoch 14: 100%|██████████| 501/501 [29:52<00:00,  3.57s/it, loss=0.604, v_num=12]\n",
      "Epoch 14: 100%|██████████| 501/501 [29:52<00:00,  3.57s/it, loss=0.604, v_num=12]\n",
      "Epoch 15:  83%|████████▎ | 417/501 [27:58<05:37,  4.02s/it, loss=0.482, v_num=12] \n",
      "Validating: 0it [00:00, ?it/s]\u001b[A\n",
      "Validating:   0%|          | 0/84 [00:00<?, ?it/s]\u001b[A\n",
      "Epoch 15:  84%|████████▎ | 419/501 [28:00<05:28,  4.00s/it, loss=0.482, v_num=12]\n",
      "Validating:   2%|▏         | 2/84 [00:02<01:57,  1.43s/it]\u001b[A\n",
      "Epoch 15:  84%|████████▍ | 421/501 [28:02<05:19,  3.99s/it, loss=0.482, v_num=12]\n",
      "Validating:   5%|▍         | 4/84 [00:05<01:53,  1.42s/it]\u001b[A\n",
      "Epoch 15:  84%|████████▍ | 423/501 [28:05<05:10,  3.98s/it, loss=0.482, v_num=12]\n",
      "Validating:   7%|▋         | 6/84 [00:08<01:51,  1.42s/it]\u001b[A\n",
      "Epoch 15:  85%|████████▍ | 425/501 [28:08<05:01,  3.96s/it, loss=0.482, v_num=12]\n",
      "Validating:  10%|▉         | 8/84 [00:11<01:48,  1.42s/it]\u001b[A\n",
      "Epoch 15:  85%|████████▌ | 427/501 [28:11<04:52,  3.95s/it, loss=0.482, v_num=12]\n",
      "Validating:  12%|█▏        | 10/84 [00:14<01:45,  1.42s/it]\u001b[A\n",
      "Epoch 15:  86%|████████▌ | 429/501 [28:14<04:43,  3.94s/it, loss=0.482, v_num=12]\n",
      "Validating:  14%|█▍        | 12/84 [00:17<01:42,  1.43s/it]\u001b[A\n",
      "Epoch 15:  86%|████████▌ | 431/501 [28:17<04:35,  3.93s/it, loss=0.482, v_num=12]\n",
      "Validating:  17%|█▋        | 14/84 [00:19<01:39,  1.42s/it]\u001b[A\n",
      "Epoch 15:  86%|████████▋ | 433/501 [28:20<04:26,  3.92s/it, loss=0.482, v_num=12]\n",
      "Validating:  19%|█▉        | 16/84 [00:22<01:36,  1.42s/it]\u001b[A\n",
      "Epoch 15:  87%|████████▋ | 435/501 [28:22<04:17,  3.91s/it, loss=0.482, v_num=12]\n",
      "Validating:  21%|██▏       | 18/84 [00:25<01:34,  1.43s/it]\u001b[A\n",
      "Epoch 15:  87%|████████▋ | 437/501 [28:25<04:09,  3.89s/it, loss=0.482, v_num=12]\n",
      "Validating:  24%|██▍       | 20/84 [00:28<01:31,  1.43s/it]\u001b[A\n",
      "Epoch 15:  88%|████████▊ | 439/501 [28:28<04:00,  3.88s/it, loss=0.482, v_num=12]\n",
      "Validating:  26%|██▌       | 22/84 [00:31<01:28,  1.44s/it]\u001b[A\n",
      "Epoch 15:  88%|████████▊ | 441/501 [28:31<03:52,  3.87s/it, loss=0.482, v_num=12]\n",
      "Validating:  29%|██▊       | 24/84 [00:34<01:26,  1.44s/it]\u001b[A\n",
      "Epoch 15:  88%|████████▊ | 443/501 [28:34<03:43,  3.86s/it, loss=0.482, v_num=12]\n",
      "Validating:  31%|███       | 26/84 [00:37<01:23,  1.43s/it]\u001b[A\n",
      "Epoch 15:  89%|████████▉ | 445/501 [28:37<03:35,  3.85s/it, loss=0.482, v_num=12]\n",
      "Validating:  33%|███▎      | 28/84 [00:40<01:20,  1.43s/it]\u001b[A\n",
      "Epoch 15:  89%|████████▉ | 447/501 [28:40<03:27,  3.84s/it, loss=0.482, v_num=12]\n",
      "Validating:  36%|███▌      | 30/84 [00:42<01:17,  1.43s/it]\u001b[A\n",
      "Epoch 15:  90%|████████▉ | 449/501 [28:42<03:19,  3.83s/it, loss=0.482, v_num=12]\n",
      "Validating:  38%|███▊      | 32/84 [00:45<01:14,  1.43s/it]\u001b[A\n",
      "Epoch 15:  90%|█████████ | 451/501 [28:45<03:10,  3.82s/it, loss=0.482, v_num=12]\n",
      "Validating:  40%|████      | 34/84 [00:48<01:11,  1.43s/it]\u001b[A\n",
      "Epoch 15:  90%|█████████ | 453/501 [28:48<03:02,  3.81s/it, loss=0.482, v_num=12]\n",
      "Validating:  43%|████▎     | 36/84 [00:51<01:08,  1.43s/it]\u001b[A\n",
      "Epoch 15:  91%|█████████ | 455/501 [28:51<02:54,  3.80s/it, loss=0.482, v_num=12]\n",
      "Validating:  45%|████▌     | 38/84 [00:54<01:05,  1.43s/it]\u001b[A\n",
      "Epoch 15:  91%|█████████ | 457/501 [28:54<02:46,  3.79s/it, loss=0.482, v_num=12]\n",
      "Validating:  48%|████▊     | 40/84 [00:57<01:02,  1.43s/it]\u001b[A\n",
      "Epoch 15:  92%|█████████▏| 459/501 [28:57<02:38,  3.78s/it, loss=0.482, v_num=12]\n",
      "Validating:  50%|█████     | 42/84 [01:00<00:59,  1.42s/it]\u001b[A\n",
      "Epoch 15:  92%|█████████▏| 461/501 [29:00<02:30,  3.77s/it, loss=0.482, v_num=12]\n",
      "Validating:  52%|█████▏    | 44/84 [01:02<00:56,  1.42s/it]\u001b[A\n",
      "Epoch 15:  92%|█████████▏| 463/501 [29:02<02:22,  3.76s/it, loss=0.482, v_num=12]\n",
      "Validating:  55%|█████▍    | 46/84 [01:05<00:54,  1.43s/it]\u001b[A\n",
      "Epoch 15:  93%|█████████▎| 465/501 [29:05<02:14,  3.75s/it, loss=0.482, v_num=12]\n",
      "Validating:  57%|█████▋    | 48/84 [01:08<00:51,  1.43s/it]\u001b[A\n",
      "Epoch 15:  93%|█████████▎| 467/501 [29:08<02:07,  3.74s/it, loss=0.482, v_num=12]\n",
      "Validating:  60%|█████▉    | 50/84 [01:11<00:48,  1.43s/it]\u001b[A\n",
      "Epoch 15:  94%|█████████▎| 469/501 [29:11<01:59,  3.73s/it, loss=0.482, v_num=12]\n",
      "Validating:  62%|██████▏   | 52/84 [01:14<00:45,  1.43s/it]\u001b[A\n",
      "Epoch 15:  94%|█████████▍| 471/501 [29:14<01:51,  3.72s/it, loss=0.482, v_num=12]\n",
      "Validating:  64%|██████▍   | 54/84 [01:17<00:42,  1.43s/it]\u001b[A\n",
      "Epoch 15:  94%|█████████▍| 473/501 [29:17<01:43,  3.71s/it, loss=0.482, v_num=12]\n",
      "Validating:  67%|██████▋   | 56/84 [01:20<00:39,  1.43s/it]\u001b[A\n",
      "Epoch 15:  95%|█████████▍| 475/501 [29:20<01:36,  3.70s/it, loss=0.482, v_num=12]\n",
      "Validating:  69%|██████▉   | 58/84 [01:22<00:37,  1.42s/it]\u001b[A\n",
      "Epoch 15:  95%|█████████▌| 477/501 [29:22<01:28,  3.69s/it, loss=0.482, v_num=12]\n",
      "Validating:  71%|███████▏  | 60/84 [01:25<00:34,  1.43s/it]\u001b[A\n",
      "Epoch 15:  96%|█████████▌| 479/501 [29:25<01:20,  3.68s/it, loss=0.482, v_num=12]\n",
      "Validating:  74%|███████▍  | 62/84 [01:28<00:31,  1.43s/it]\u001b[A\n",
      "Epoch 15:  96%|█████████▌| 481/501 [29:28<01:13,  3.67s/it, loss=0.482, v_num=12]\n",
      "Validating:  76%|███████▌  | 64/84 [01:31<00:28,  1.43s/it]\u001b[A\n",
      "Epoch 15:  96%|█████████▋| 483/501 [29:31<01:05,  3.66s/it, loss=0.482, v_num=12]\n",
      "Validating:  79%|███████▊  | 66/84 [01:34<00:25,  1.44s/it]\u001b[A\n",
      "Epoch 15:  97%|█████████▋| 485/501 [29:34<00:58,  3.65s/it, loss=0.482, v_num=12]\n",
      "Validating:  81%|████████  | 68/84 [01:37<00:23,  1.44s/it]\u001b[A\n",
      "Epoch 15:  97%|█████████▋| 487/501 [29:37<00:50,  3.64s/it, loss=0.482, v_num=12]\n",
      "Validating:  83%|████████▎ | 70/84 [01:40<00:20,  1.44s/it]\u001b[A\n",
      "Epoch 15:  98%|█████████▊| 489/501 [29:40<00:43,  3.63s/it, loss=0.482, v_num=12]\n",
      "Validating:  86%|████████▌ | 72/84 [01:42<00:17,  1.43s/it]\u001b[A\n",
      "Epoch 15:  98%|█████████▊| 491/501 [29:43<00:36,  3.62s/it, loss=0.482, v_num=12]\n",
      "Validating:  88%|████████▊ | 74/84 [01:45<00:14,  1.43s/it]\u001b[A\n",
      "Epoch 15:  98%|█████████▊| 493/501 [29:45<00:28,  3.62s/it, loss=0.482, v_num=12]\n",
      "Validating:  90%|█████████ | 76/84 [01:48<00:11,  1.43s/it]\u001b[A\n",
      "Epoch 15:  99%|█████████▉| 495/501 [29:48<00:21,  3.61s/it, loss=0.482, v_num=12]\n",
      "Validating:  93%|█████████▎| 78/84 [01:51<00:08,  1.43s/it]\u001b[A\n",
      "Epoch 15:  99%|█████████▉| 497/501 [29:51<00:14,  3.60s/it, loss=0.482, v_num=12]\n",
      "Validating:  95%|█████████▌| 80/84 [01:54<00:05,  1.43s/it]\u001b[A\n",
      "Epoch 15: 100%|█████████▉| 499/501 [29:54<00:07,  3.59s/it, loss=0.482, v_num=12]\n",
      "Validating:  98%|█████████▊| 82/84 [01:57<00:02,  1.43s/it]\u001b[A\n",
      "Epoch 15: 100%|██████████| 501/501 [29:57<00:00,  3.58s/it, loss=0.482, v_num=12]\n",
      "Epoch 15: 100%|██████████| 501/501 [29:57<00:00,  3.58s/it, loss=0.482, v_num=12]\n",
      "Epoch 16:  83%|████████▎ | 418/501 [27:57<05:32,  4.00s/it, loss=0.468, v_num=12] \n",
      "Validating: 0it [00:00, ?it/s]\u001b[A\n",
      "Validating:   0%|          | 0/84 [00:00<?, ?it/s]\u001b[A\n",
      "Validating:   1%|          | 1/84 [00:01<02:00,  1.45s/it]\u001b[A\n",
      "Epoch 16:  84%|████████▍ | 420/501 [28:00<05:23,  3.99s/it, loss=0.468, v_num=12]\n",
      "Validating:   4%|▎         | 3/84 [00:04<01:56,  1.44s/it]\u001b[A\n",
      "Epoch 16:  84%|████████▍ | 422/501 [28:03<05:14,  3.98s/it, loss=0.468, v_num=12]\n",
      "Validating:   6%|▌         | 5/84 [00:07<01:53,  1.44s/it]\u001b[A\n",
      "Epoch 16:  85%|████████▍ | 424/501 [28:06<05:05,  3.97s/it, loss=0.468, v_num=12]\n",
      "Validating:   8%|▊         | 7/84 [00:10<01:50,  1.43s/it]\u001b[A\n",
      "Epoch 16:  85%|████████▌ | 426/501 [28:09<04:56,  3.96s/it, loss=0.468, v_num=12]\n",
      "Validating:  11%|█         | 9/84 [00:12<01:47,  1.43s/it]\u001b[A\n",
      "Epoch 16:  85%|████████▌ | 428/501 [28:11<04:47,  3.94s/it, loss=0.468, v_num=12]\n",
      "Validating:  13%|█▎        | 11/84 [00:15<01:44,  1.44s/it]\u001b[A\n",
      "Epoch 16:  86%|████████▌ | 430/501 [28:14<04:39,  3.93s/it, loss=0.468, v_num=12]\n",
      "Validating:  15%|█▌        | 13/84 [00:18<01:41,  1.43s/it]\u001b[A\n",
      "Epoch 16:  86%|████████▌ | 432/501 [28:17<04:30,  3.92s/it, loss=0.468, v_num=12]\n",
      "Validating:  18%|█▊        | 15/84 [00:21<01:38,  1.43s/it]\u001b[A\n",
      "Epoch 16:  87%|████████▋ | 434/501 [28:20<04:21,  3.91s/it, loss=0.468, v_num=12]\n",
      "Validating:  20%|██        | 17/84 [00:24<01:36,  1.44s/it]\u001b[A\n",
      "Epoch 16:  87%|████████▋ | 436/501 [28:23<04:13,  3.90s/it, loss=0.468, v_num=12]\n",
      "Validating:  23%|██▎       | 19/84 [00:27<01:33,  1.43s/it]\u001b[A\n",
      "Epoch 16:  87%|████████▋ | 438/501 [28:26<04:04,  3.89s/it, loss=0.468, v_num=12]\n",
      "Validating:  25%|██▌       | 21/84 [00:30<01:30,  1.44s/it]\u001b[A\n",
      "Epoch 16:  88%|████████▊ | 440/501 [28:29<03:56,  3.88s/it, loss=0.468, v_num=12]\n",
      "Validating:  27%|██▋       | 23/84 [00:32<01:27,  1.43s/it]\u001b[A\n",
      "Epoch 16:  88%|████████▊ | 442/501 [28:32<03:48,  3.86s/it, loss=0.468, v_num=12]\n",
      "Validating:  30%|██▉       | 25/84 [00:35<01:24,  1.43s/it]\u001b[A\n",
      "Epoch 16:  89%|████████▊ | 444/501 [28:34<03:39,  3.85s/it, loss=0.468, v_num=12]\n",
      "Validating:  32%|███▏      | 27/84 [00:38<01:21,  1.44s/it]\u001b[A\n",
      "Epoch 16:  89%|████████▉ | 446/501 [28:37<03:31,  3.84s/it, loss=0.468, v_num=12]\n",
      "Validating:  35%|███▍      | 29/84 [00:41<01:19,  1.44s/it]\u001b[A\n",
      "Epoch 16:  89%|████████▉ | 448/501 [28:40<03:23,  3.83s/it, loss=0.468, v_num=12]\n",
      "Validating:  37%|███▋      | 31/84 [00:44<01:16,  1.43s/it]\u001b[A\n",
      "Epoch 16:  90%|████████▉ | 450/501 [28:43<03:14,  3.82s/it, loss=0.468, v_num=12]\n",
      "Validating:  39%|███▉      | 33/84 [00:47<01:13,  1.43s/it]\u001b[A\n",
      "Epoch 16:  90%|█████████ | 452/501 [28:46<03:06,  3.81s/it, loss=0.468, v_num=12]\n",
      "Validating:  42%|████▏     | 35/84 [00:50<01:10,  1.44s/it]\u001b[A\n",
      "Epoch 16:  91%|█████████ | 454/501 [28:49<02:58,  3.80s/it, loss=0.468, v_num=12]\n",
      "Validating:  44%|████▍     | 37/84 [00:53<01:07,  1.44s/it]\u001b[A\n",
      "Epoch 16:  91%|█████████ | 456/501 [28:52<02:50,  3.79s/it, loss=0.468, v_num=12]\n",
      "Validating:  46%|████▋     | 39/84 [00:55<01:04,  1.44s/it]\u001b[A\n",
      "Epoch 16:  91%|█████████▏| 458/501 [28:55<02:42,  3.78s/it, loss=0.468, v_num=12]\n",
      "Validating:  49%|████▉     | 41/84 [00:58<01:01,  1.44s/it]\u001b[A\n",
      "Epoch 16:  92%|█████████▏| 460/501 [28:57<02:34,  3.77s/it, loss=0.468, v_num=12]\n",
      "Validating:  51%|█████     | 43/84 [01:01<00:58,  1.43s/it]\u001b[A\n",
      "Epoch 16:  92%|█████████▏| 462/501 [29:00<02:26,  3.76s/it, loss=0.468, v_num=12]\n",
      "Validating:  54%|█████▎    | 45/84 [01:04<00:55,  1.43s/it]\u001b[A\n",
      "Epoch 16:  93%|█████████▎| 464/501 [29:03<02:18,  3.75s/it, loss=0.468, v_num=12]\n",
      "Validating:  56%|█████▌    | 47/84 [01:07<00:52,  1.43s/it]\u001b[A\n",
      "Epoch 16:  93%|█████████▎| 466/501 [29:06<02:10,  3.74s/it, loss=0.468, v_num=12]\n",
      "Validating:  58%|█████▊    | 49/84 [01:10<00:50,  1.43s/it]\u001b[A\n",
      "Epoch 16:  93%|█████████▎| 468/501 [29:09<02:03,  3.73s/it, loss=0.468, v_num=12]\n",
      "Validating:  61%|██████    | 51/84 [01:13<00:47,  1.43s/it]\u001b[A\n",
      "Epoch 16:  94%|█████████▍| 470/501 [29:12<01:55,  3.72s/it, loss=0.468, v_num=12]\n",
      "Validating:  63%|██████▎   | 53/84 [01:16<00:44,  1.44s/it]\u001b[A\n",
      "Epoch 16:  94%|█████████▍| 472/501 [29:15<01:47,  3.71s/it, loss=0.468, v_num=12]\n",
      "Validating:  65%|██████▌   | 55/84 [01:18<00:41,  1.44s/it]\u001b[A\n",
      "Epoch 16:  95%|█████████▍| 474/501 [29:17<01:39,  3.70s/it, loss=0.468, v_num=12]\n",
      "Validating:  68%|██████▊   | 57/84 [01:21<00:38,  1.43s/it]\u001b[A\n",
      "Epoch 16:  95%|█████████▌| 476/501 [29:20<01:32,  3.69s/it, loss=0.468, v_num=12]\n",
      "Validating:  70%|███████   | 59/84 [01:24<00:35,  1.43s/it]\u001b[A\n",
      "Epoch 16:  95%|█████████▌| 478/501 [29:23<01:24,  3.68s/it, loss=0.468, v_num=12]\n",
      "Validating:  73%|███████▎  | 61/84 [01:27<00:32,  1.43s/it]\u001b[A\n",
      "Epoch 16:  96%|█████████▌| 480/501 [29:26<01:17,  3.67s/it, loss=0.468, v_num=12]\n",
      "Validating:  75%|███████▌  | 63/84 [01:30<00:29,  1.42s/it]\u001b[A\n",
      "Epoch 16:  96%|█████████▌| 482/501 [29:29<01:09,  3.66s/it, loss=0.468, v_num=12]\n",
      "Validating:  77%|███████▋  | 65/84 [01:33<00:27,  1.43s/it]\u001b[A\n",
      "Epoch 16:  97%|█████████▋| 484/501 [29:32<01:02,  3.65s/it, loss=0.468, v_num=12]\n",
      "Validating:  80%|███████▉  | 67/84 [01:36<00:24,  1.44s/it]\u001b[A\n",
      "Epoch 16:  97%|█████████▋| 486/501 [29:35<00:54,  3.64s/it, loss=0.468, v_num=12]\n",
      "Validating:  82%|████████▏ | 69/84 [01:38<00:21,  1.44s/it]\u001b[A\n",
      "Epoch 16:  97%|█████████▋| 488/501 [29:37<00:47,  3.64s/it, loss=0.468, v_num=12]\n",
      "Validating:  85%|████████▍ | 71/84 [01:41<00:18,  1.46s/it]\u001b[A\n",
      "Epoch 16:  98%|█████████▊| 490/501 [29:40<00:39,  3.63s/it, loss=0.468, v_num=12]\n",
      "Validating:  87%|████████▋ | 73/84 [01:44<00:15,  1.45s/it]\u001b[A\n",
      "Epoch 16:  98%|█████████▊| 492/501 [29:43<00:32,  3.62s/it, loss=0.468, v_num=12]\n",
      "Validating:  89%|████████▉ | 75/84 [01:47<00:12,  1.44s/it]\u001b[A\n",
      "Epoch 16:  99%|█████████▊| 494/501 [29:46<00:25,  3.61s/it, loss=0.468, v_num=12]\n",
      "Validating:  92%|█████████▏| 77/84 [01:50<00:10,  1.44s/it]\u001b[A\n",
      "Epoch 16:  99%|█████████▉| 496/501 [29:49<00:18,  3.60s/it, loss=0.468, v_num=12]\n",
      "Validating:  94%|█████████▍| 79/84 [01:53<00:07,  1.44s/it]\u001b[A\n",
      "Epoch 16:  99%|█████████▉| 498/501 [29:52<00:10,  3.59s/it, loss=0.468, v_num=12]\n",
      "Validating:  96%|█████████▋| 81/84 [01:56<00:04,  1.43s/it]\u001b[A\n",
      "Epoch 16: 100%|█████████▉| 500/501 [29:55<00:03,  3.58s/it, loss=0.468, v_num=12]\n",
      "Validating:  99%|█████████▉| 83/84 [01:59<00:01,  1.43s/it]\u001b[A\n",
      "Epoch 16: 100%|██████████| 501/501 [29:56<00:00,  3.58s/it, loss=0.468, v_num=12]\n",
      "Epoch 17:  83%|████████▎ | 418/501 [27:52<05:31,  3.99s/it, loss=0.464, v_num=12] \n",
      "Validating: 0it [00:00, ?it/s]\u001b[A\n",
      "Validating:   0%|          | 0/84 [00:00<?, ?it/s]\u001b[A\n",
      "Validating:   1%|          | 1/84 [00:01<01:59,  1.44s/it]\u001b[A\n",
      "Epoch 17:  84%|████████▍ | 420/501 [27:54<05:22,  3.98s/it, loss=0.464, v_num=12]\n",
      "Validating:   4%|▎         | 3/84 [00:04<01:57,  1.45s/it]\u001b[A\n",
      "Epoch 17:  84%|████████▍ | 422/501 [27:57<05:13,  3.97s/it, loss=0.464, v_num=12]\n",
      "Validating:   6%|▌         | 5/84 [00:07<01:53,  1.44s/it]\u001b[A\n",
      "Epoch 17:  85%|████████▍ | 424/501 [28:00<05:04,  3.95s/it, loss=0.464, v_num=12]\n",
      "Validating:   8%|▊         | 7/84 [00:10<01:50,  1.44s/it]\u001b[A\n",
      "Epoch 17:  85%|████████▌ | 426/501 [28:03<04:55,  3.94s/it, loss=0.464, v_num=12]\n",
      "Validating:  11%|█         | 9/84 [00:12<01:47,  1.43s/it]\u001b[A\n",
      "Epoch 17:  85%|████████▌ | 428/501 [28:06<04:46,  3.93s/it, loss=0.464, v_num=12]\n",
      "Validating:  13%|█▎        | 11/84 [00:15<01:44,  1.43s/it]\u001b[A\n",
      "Epoch 17:  86%|████████▌ | 430/501 [28:09<04:38,  3.92s/it, loss=0.464, v_num=12]\n",
      "Validating:  15%|█▌        | 13/84 [00:18<01:41,  1.43s/it]\u001b[A\n",
      "Epoch 17:  86%|████████▌ | 432/501 [28:12<04:29,  3.91s/it, loss=0.464, v_num=12]\n",
      "Validating:  18%|█▊        | 15/84 [00:21<01:38,  1.43s/it]\u001b[A\n",
      "Epoch 17:  87%|████████▋ | 434/501 [28:15<04:21,  3.90s/it, loss=0.464, v_num=12]\n",
      "Validating:  20%|██        | 17/84 [00:24<01:36,  1.43s/it]\u001b[A\n",
      "Epoch 17:  87%|████████▋ | 436/501 [28:17<04:12,  3.89s/it, loss=0.464, v_num=12]\n",
      "Validating:  23%|██▎       | 19/84 [00:27<01:33,  1.44s/it]\u001b[A\n",
      "Epoch 17:  87%|████████▋ | 438/501 [28:20<04:04,  3.87s/it, loss=0.464, v_num=12]\n",
      "Validating:  25%|██▌       | 21/84 [00:30<01:30,  1.44s/it]\u001b[A\n",
      "Epoch 17:  88%|████████▊ | 440/501 [28:23<03:55,  3.86s/it, loss=0.464, v_num=12]\n",
      "Validating:  27%|██▋       | 23/84 [00:33<01:27,  1.44s/it]\u001b[A\n",
      "Epoch 17:  88%|████████▊ | 442/501 [28:26<03:47,  3.85s/it, loss=0.464, v_num=12]\n",
      "Validating:  30%|██▉       | 25/84 [00:35<01:24,  1.44s/it]\u001b[A\n",
      "Epoch 17:  89%|████████▊ | 444/501 [28:29<03:38,  3.84s/it, loss=0.464, v_num=12]\n",
      "Validating:  32%|███▏      | 27/84 [00:38<01:21,  1.43s/it]\u001b[A\n",
      "Epoch 17:  89%|████████▉ | 446/501 [28:32<03:30,  3.83s/it, loss=0.464, v_num=12]\n",
      "Validating:  35%|███▍      | 29/84 [00:41<01:18,  1.44s/it]\u001b[A\n",
      "Epoch 17:  89%|████████▉ | 448/501 [28:35<03:22,  3.82s/it, loss=0.464, v_num=12]\n",
      "Validating:  37%|███▋      | 31/84 [00:44<01:16,  1.44s/it]\u001b[A\n",
      "Epoch 17:  90%|████████▉ | 450/501 [28:38<03:14,  3.81s/it, loss=0.464, v_num=12]\n",
      "Validating:  39%|███▉      | 33/84 [00:47<01:12,  1.43s/it]\u001b[A\n",
      "Epoch 17:  90%|█████████ | 452/501 [28:40<03:06,  3.80s/it, loss=0.464, v_num=12]\n",
      "Validating:  42%|████▏     | 35/84 [00:50<01:10,  1.43s/it]\u001b[A\n",
      "Epoch 17:  91%|█████████ | 454/501 [28:43<02:58,  3.79s/it, loss=0.464, v_num=12]\n",
      "Validating:  44%|████▍     | 37/84 [00:53<01:07,  1.43s/it]\u001b[A\n",
      "Epoch 17:  91%|█████████ | 456/501 [28:46<02:50,  3.78s/it, loss=0.464, v_num=12]\n",
      "Validating:  46%|████▋     | 39/84 [00:55<01:04,  1.43s/it]\u001b[A\n",
      "Epoch 17:  91%|█████████▏| 458/501 [28:49<02:42,  3.77s/it, loss=0.464, v_num=12]\n",
      "Validating:  49%|████▉     | 41/84 [00:58<01:01,  1.44s/it]\u001b[A\n",
      "Epoch 17:  92%|█████████▏| 460/501 [28:52<02:34,  3.76s/it, loss=0.464, v_num=12]\n",
      "Validating:  51%|█████     | 43/84 [01:01<00:58,  1.43s/it]\u001b[A\n",
      "Epoch 17:  92%|█████████▏| 462/501 [28:55<02:26,  3.75s/it, loss=0.464, v_num=12]\n",
      "Validating:  54%|█████▎    | 45/84 [01:04<00:56,  1.44s/it]\u001b[A\n",
      "Epoch 17:  93%|█████████▎| 464/501 [28:58<02:18,  3.74s/it, loss=0.464, v_num=12]\n",
      "Validating:  56%|█████▌    | 47/84 [01:07<00:53,  1.44s/it]\u001b[A\n",
      "Epoch 17:  93%|█████████▎| 466/501 [29:00<02:10,  3.73s/it, loss=0.464, v_num=12]\n",
      "Validating:  58%|█████▊    | 49/84 [01:10<00:50,  1.43s/it]\u001b[A\n",
      "Epoch 17:  93%|█████████▎| 468/501 [29:03<02:02,  3.72s/it, loss=0.464, v_num=12]\n",
      "Validating:  61%|██████    | 51/84 [01:13<00:47,  1.44s/it]\u001b[A\n",
      "Epoch 17:  94%|█████████▍| 470/501 [29:06<01:54,  3.71s/it, loss=0.464, v_num=12]\n",
      "Validating:  63%|██████▎   | 53/84 [01:16<00:44,  1.44s/it]\u001b[A\n",
      "Epoch 17:  94%|█████████▍| 472/501 [29:09<01:47,  3.70s/it, loss=0.464, v_num=12]\n",
      "Validating:  65%|██████▌   | 55/84 [01:18<00:41,  1.43s/it]\u001b[A\n",
      "Epoch 17:  95%|█████████▍| 474/501 [29:12<01:39,  3.69s/it, loss=0.464, v_num=12]\n",
      "Validating:  68%|██████▊   | 57/84 [01:21<00:38,  1.43s/it]\u001b[A\n",
      "Epoch 17:  95%|█████████▌| 476/501 [29:15<01:31,  3.68s/it, loss=0.464, v_num=12]\n",
      "Validating:  70%|███████   | 59/84 [01:24<00:35,  1.44s/it]\u001b[A\n",
      "Epoch 17:  95%|█████████▌| 478/501 [29:18<01:24,  3.67s/it, loss=0.464, v_num=12]\n",
      "Validating:  73%|███████▎  | 61/84 [01:27<00:32,  1.43s/it]\u001b[A\n",
      "Epoch 17:  96%|█████████▌| 480/501 [29:21<01:16,  3.66s/it, loss=0.464, v_num=12]\n",
      "Validating:  75%|███████▌  | 63/84 [01:30<00:30,  1.43s/it]\u001b[A\n",
      "Epoch 17:  96%|█████████▌| 482/501 [29:23<01:09,  3.65s/it, loss=0.464, v_num=12]\n",
      "Validating:  77%|███████▋  | 65/84 [01:33<00:27,  1.44s/it]\u001b[A\n",
      "Epoch 17:  97%|█████████▋| 484/501 [29:26<01:01,  3.64s/it, loss=0.464, v_num=12]\n",
      "Validating:  80%|███████▉  | 67/84 [01:36<00:24,  1.43s/it]\u001b[A\n",
      "Epoch 17:  97%|█████████▋| 486/501 [29:29<00:54,  3.63s/it, loss=0.464, v_num=12]\n",
      "Validating:  82%|████████▏ | 69/84 [01:39<00:21,  1.43s/it]\u001b[A\n",
      "Epoch 17:  97%|█████████▋| 488/501 [29:32<00:47,  3.62s/it, loss=0.464, v_num=12]\n",
      "Validating:  85%|████████▍ | 71/84 [01:41<00:18,  1.43s/it]\u001b[A\n",
      "Epoch 17:  98%|█████████▊| 490/501 [29:35<00:39,  3.62s/it, loss=0.464, v_num=12]\n",
      "Validating:  87%|████████▋ | 73/84 [01:44<00:15,  1.44s/it]\u001b[A\n",
      "Epoch 17:  98%|█████████▊| 492/501 [29:38<00:32,  3.61s/it, loss=0.464, v_num=12]\n",
      "Validating:  89%|████████▉ | 75/84 [01:47<00:12,  1.44s/it]\u001b[A\n",
      "Epoch 17:  99%|█████████▊| 494/501 [29:41<00:25,  3.60s/it, loss=0.464, v_num=12]\n",
      "Validating:  92%|█████████▏| 77/84 [01:50<00:10,  1.44s/it]\u001b[A\n",
      "Epoch 17:  99%|█████████▉| 496/501 [29:44<00:17,  3.59s/it, loss=0.464, v_num=12]\n",
      "Validating:  94%|█████████▍| 79/84 [01:53<00:07,  1.44s/it]\u001b[A\n",
      "Epoch 17:  99%|█████████▉| 498/501 [29:46<00:10,  3.58s/it, loss=0.464, v_num=12]\n",
      "Validating:  96%|█████████▋| 81/84 [01:56<00:04,  1.44s/it]\u001b[A\n",
      "Epoch 17: 100%|█████████▉| 500/501 [29:49<00:03,  3.57s/it, loss=0.464, v_num=12]\n",
      "Validating:  99%|█████████▉| 83/84 [01:59<00:01,  1.44s/it]\u001b[A\n",
      "Epoch 17: 100%|██████████| 501/501 [29:51<00:00,  3.57s/it, loss=0.464, v_num=12]\n",
      "Epoch 18:  83%|████████▎ | 418/501 [27:54<05:31,  4.00s/it, loss=0.466, v_num=12] \n",
      "Validating: 0it [00:00, ?it/s]\u001b[A\n",
      "Validating:   0%|          | 0/84 [00:00<?, ?it/s]\u001b[A\n",
      "Validating:   1%|          | 1/84 [00:01<01:59,  1.44s/it]\u001b[A\n",
      "Epoch 18:  84%|████████▍ | 420/501 [27:57<05:22,  3.99s/it, loss=0.466, v_num=12]\n",
      "Validating:   4%|▎         | 3/84 [00:04<01:57,  1.45s/it]\u001b[A\n",
      "Epoch 18:  84%|████████▍ | 422/501 [28:00<05:13,  3.97s/it, loss=0.466, v_num=12]\n",
      "Validating:   6%|▌         | 5/84 [00:07<01:54,  1.45s/it]\u001b[A\n",
      "Epoch 18:  85%|████████▍ | 424/501 [28:03<05:05,  3.96s/it, loss=0.466, v_num=12]\n",
      "Validating:   8%|▊         | 7/84 [00:10<01:51,  1.45s/it]\u001b[A\n",
      "Epoch 18:  85%|████████▌ | 426/501 [28:06<04:56,  3.95s/it, loss=0.466, v_num=12]\n",
      "Validating:  11%|█         | 9/84 [00:13<01:48,  1.44s/it]\u001b[A\n",
      "Epoch 18:  85%|████████▌ | 428/501 [28:09<04:47,  3.94s/it, loss=0.466, v_num=12]\n",
      "Validating:  13%|█▎        | 11/84 [00:15<01:45,  1.44s/it]\u001b[A\n",
      "Epoch 18:  86%|████████▌ | 430/501 [28:12<04:38,  3.93s/it, loss=0.466, v_num=12]\n",
      "Validating:  15%|█▌        | 13/84 [00:18<01:42,  1.44s/it]\u001b[A\n",
      "Epoch 18:  86%|████████▌ | 432/501 [28:15<04:30,  3.91s/it, loss=0.466, v_num=12]\n",
      "Validating:  18%|█▊        | 15/84 [00:21<01:39,  1.44s/it]\u001b[A\n",
      "Epoch 18:  87%|████████▋ | 434/501 [28:17<04:21,  3.90s/it, loss=0.466, v_num=12]\n",
      "Validating:  20%|██        | 17/84 [00:24<01:36,  1.44s/it]\u001b[A\n",
      "Epoch 18:  87%|████████▋ | 436/501 [28:20<04:12,  3.89s/it, loss=0.466, v_num=12]\n",
      "Validating:  23%|██▎       | 19/84 [00:27<01:33,  1.44s/it]\u001b[A\n",
      "Epoch 18:  87%|████████▋ | 438/501 [28:23<04:04,  3.88s/it, loss=0.466, v_num=12]\n",
      "Validating:  25%|██▌       | 21/84 [00:30<01:30,  1.44s/it]\u001b[A\n",
      "Epoch 18:  88%|████████▊ | 440/501 [28:26<03:56,  3.87s/it, loss=0.466, v_num=12]\n",
      "Validating:  27%|██▋       | 23/84 [00:33<01:28,  1.45s/it]\u001b[A\n",
      "Epoch 18:  88%|████████▊ | 442/501 [28:29<03:47,  3.86s/it, loss=0.466, v_num=12]\n",
      "Validating:  30%|██▉       | 25/84 [00:36<01:25,  1.44s/it]\u001b[A\n",
      "Epoch 18:  89%|████████▊ | 444/501 [28:32<03:39,  3.85s/it, loss=0.466, v_num=12]\n",
      "Validating:  32%|███▏      | 27/84 [00:38<01:21,  1.44s/it]\u001b[A\n",
      "Epoch 18:  89%|████████▉ | 446/501 [28:35<03:31,  3.84s/it, loss=0.466, v_num=12]\n",
      "Validating:  35%|███▍      | 29/84 [00:41<01:19,  1.45s/it]\u001b[A\n",
      "Epoch 18:  89%|████████▉ | 448/501 [28:38<03:22,  3.83s/it, loss=0.466, v_num=12]\n",
      "Validating:  37%|███▋      | 31/84 [00:44<01:16,  1.44s/it]\u001b[A\n",
      "Epoch 18:  90%|████████▉ | 450/501 [28:40<03:14,  3.82s/it, loss=0.466, v_num=12]\n",
      "Validating:  39%|███▉      | 33/84 [00:47<01:13,  1.44s/it]\u001b[A\n",
      "Epoch 18:  90%|█████████ | 452/501 [28:43<03:06,  3.81s/it, loss=0.466, v_num=12]\n",
      "Validating:  42%|████▏     | 35/84 [00:50<01:10,  1.44s/it]\u001b[A\n",
      "Epoch 18:  91%|█████████ | 454/501 [28:46<02:58,  3.80s/it, loss=0.466, v_num=12]\n",
      "Validating:  44%|████▍     | 37/84 [00:53<01:07,  1.44s/it]\u001b[A\n",
      "Epoch 18:  91%|█████████ | 456/501 [28:49<02:50,  3.78s/it, loss=0.466, v_num=12]\n",
      "Validating:  46%|████▋     | 39/84 [00:56<01:04,  1.44s/it]\u001b[A\n",
      "Epoch 18:  91%|█████████▏| 458/501 [28:52<02:42,  3.77s/it, loss=0.466, v_num=12]\n",
      "Validating:  49%|████▉     | 41/84 [00:59<01:01,  1.44s/it]\u001b[A\n",
      "Epoch 18:  92%|█████████▏| 460/501 [28:55<02:34,  3.76s/it, loss=0.466, v_num=12]\n",
      "Validating:  51%|█████     | 43/84 [01:02<00:59,  1.45s/it]\u001b[A\n",
      "Epoch 18:  92%|█████████▏| 462/501 [28:58<02:26,  3.75s/it, loss=0.466, v_num=12]\n",
      "Validating:  54%|█████▎    | 45/84 [01:04<00:56,  1.44s/it]\u001b[A\n",
      "Epoch 18:  93%|█████████▎| 464/501 [29:01<02:18,  3.74s/it, loss=0.466, v_num=12]\n",
      "Validating:  56%|█████▌    | 47/84 [01:07<00:53,  1.44s/it]\u001b[A\n",
      "Epoch 18:  93%|█████████▎| 466/501 [29:04<02:10,  3.73s/it, loss=0.466, v_num=12]\n",
      "Validating:  58%|█████▊    | 49/84 [01:10<00:50,  1.44s/it]\u001b[A\n",
      "Epoch 18:  93%|█████████▎| 468/501 [29:06<02:02,  3.72s/it, loss=0.466, v_num=12]\n",
      "Validating:  61%|██████    | 51/84 [01:13<00:47,  1.44s/it]\u001b[A\n",
      "Epoch 18:  94%|█████████▍| 470/501 [29:09<01:55,  3.72s/it, loss=0.466, v_num=12]\n",
      "Validating:  63%|██████▎   | 53/84 [01:16<00:44,  1.44s/it]\u001b[A\n",
      "Epoch 18:  94%|█████████▍| 472/501 [29:12<01:47,  3.71s/it, loss=0.466, v_num=12]\n",
      "Validating:  65%|██████▌   | 55/84 [01:19<00:41,  1.44s/it]\u001b[A\n",
      "Epoch 18:  95%|█████████▍| 474/501 [29:15<01:39,  3.70s/it, loss=0.466, v_num=12]\n",
      "Validating:  68%|██████▊   | 57/84 [01:22<00:39,  1.45s/it]\u001b[A\n",
      "Epoch 18:  95%|█████████▌| 476/501 [29:18<01:32,  3.69s/it, loss=0.466, v_num=12]\n",
      "Validating:  70%|███████   | 59/84 [01:25<00:36,  1.44s/it]\u001b[A\n",
      "Epoch 18:  95%|█████████▌| 478/501 [29:21<01:24,  3.68s/it, loss=0.466, v_num=12]\n",
      "Validating:  73%|███████▎  | 61/84 [01:27<00:33,  1.44s/it]\u001b[A\n",
      "Epoch 18:  96%|█████████▌| 480/501 [29:24<01:17,  3.67s/it, loss=0.466, v_num=12]\n",
      "Validating:  75%|███████▌  | 63/84 [01:30<00:30,  1.44s/it]\u001b[A\n",
      "Epoch 18:  96%|█████████▌| 482/501 [29:27<01:09,  3.66s/it, loss=0.466, v_num=12]\n",
      "Validating:  77%|███████▋  | 65/84 [01:33<00:27,  1.44s/it]\u001b[A\n",
      "Epoch 18:  97%|█████████▋| 484/501 [29:29<01:02,  3.65s/it, loss=0.466, v_num=12]\n",
      "Validating:  80%|███████▉  | 67/84 [01:36<00:24,  1.44s/it]\u001b[A\n",
      "Epoch 18:  97%|█████████▋| 486/501 [29:32<00:54,  3.64s/it, loss=0.466, v_num=12]\n",
      "Validating:  82%|████████▏ | 69/84 [01:39<00:21,  1.44s/it]\u001b[A\n",
      "Epoch 18:  97%|█████████▋| 488/501 [29:35<00:47,  3.63s/it, loss=0.466, v_num=12]\n",
      "Validating:  85%|████████▍ | 71/84 [01:42<00:18,  1.44s/it]\u001b[A\n",
      "Epoch 18:  98%|█████████▊| 490/501 [29:38<00:39,  3.62s/it, loss=0.466, v_num=12]\n",
      "Validating:  87%|████████▋ | 73/84 [01:45<00:15,  1.44s/it]\u001b[A\n",
      "Epoch 18:  98%|█████████▊| 492/501 [29:41<00:32,  3.61s/it, loss=0.466, v_num=12]\n",
      "Validating:  89%|████████▉ | 75/84 [01:48<00:13,  1.45s/it]\u001b[A\n",
      "Epoch 18:  99%|█████████▊| 494/501 [29:44<00:25,  3.60s/it, loss=0.466, v_num=12]\n",
      "Validating:  92%|█████████▏| 77/84 [01:51<00:10,  1.44s/it]\u001b[A\n",
      "Epoch 18:  99%|█████████▉| 496/501 [29:47<00:17,  3.60s/it, loss=0.466, v_num=12]\n",
      "Validating:  94%|█████████▍| 79/84 [01:53<00:07,  1.45s/it]\u001b[A\n",
      "Epoch 18:  99%|█████████▉| 498/501 [29:50<00:10,  3.59s/it, loss=0.466, v_num=12]\n",
      "Validating:  96%|█████████▋| 81/84 [01:56<00:04,  1.45s/it]\u001b[A\n",
      "Epoch 18: 100%|█████████▉| 500/501 [29:53<00:03,  3.58s/it, loss=0.466, v_num=12]\n",
      "Validating:  99%|█████████▉| 83/84 [01:59<00:01,  1.45s/it]\u001b[A\n",
      "Epoch 18: 100%|██████████| 501/501 [29:54<00:00,  3.58s/it, loss=0.466, v_num=12]\n",
      "Epoch 19:  83%|████████▎ | 418/501 [27:53<05:31,  3.99s/it, loss=0.431, v_num=12] \n",
      "Validating: 0it [00:00, ?it/s]\u001b[A\n",
      "Validating:   0%|          | 0/84 [00:00<?, ?it/s]\u001b[A\n",
      "Validating:   1%|          | 1/84 [00:01<02:00,  1.45s/it]\u001b[A\n",
      "Epoch 19:  84%|████████▍ | 420/501 [27:56<05:22,  3.98s/it, loss=0.431, v_num=12]\n",
      "Validating:   4%|▎         | 3/84 [00:04<01:57,  1.45s/it]\u001b[A\n",
      "Epoch 19:  84%|████████▍ | 422/501 [27:59<05:13,  3.97s/it, loss=0.431, v_num=12]\n",
      "Validating:   6%|▌         | 5/84 [00:07<01:54,  1.45s/it]\u001b[A\n",
      "Epoch 19:  85%|████████▍ | 424/501 [28:01<05:04,  3.96s/it, loss=0.431, v_num=12]\n",
      "Validating:   8%|▊         | 7/84 [00:10<01:51,  1.45s/it]\u001b[A\n",
      "Epoch 19:  85%|████████▌ | 426/501 [28:04<04:55,  3.95s/it, loss=0.431, v_num=12]\n",
      "Validating:  11%|█         | 9/84 [00:13<01:47,  1.44s/it]\u001b[A\n",
      "Epoch 19:  85%|████████▌ | 428/501 [28:07<04:47,  3.93s/it, loss=0.431, v_num=12]\n",
      "Validating:  13%|█▎        | 11/84 [00:15<01:45,  1.44s/it]\u001b[A\n",
      "Epoch 19:  86%|████████▌ | 430/501 [28:10<04:38,  3.92s/it, loss=0.431, v_num=12]\n",
      "Validating:  15%|█▌        | 13/84 [00:18<01:42,  1.44s/it]\u001b[A\n",
      "Epoch 19:  86%|████████▌ | 432/501 [28:13<04:29,  3.91s/it, loss=0.431, v_num=12]\n",
      "Validating:  18%|█▊        | 15/84 [00:21<01:39,  1.45s/it]\u001b[A\n",
      "Epoch 19:  87%|████████▋ | 434/501 [28:16<04:21,  3.90s/it, loss=0.431, v_num=12]\n",
      "Validating:  20%|██        | 17/84 [00:24<01:37,  1.45s/it]\u001b[A\n",
      "Epoch 19:  87%|████████▋ | 436/501 [28:19<04:12,  3.89s/it, loss=0.431, v_num=12]\n",
      "Validating:  23%|██▎       | 19/84 [00:27<01:34,  1.45s/it]\u001b[A\n",
      "Epoch 19:  87%|████████▋ | 438/501 [28:22<04:04,  3.88s/it, loss=0.431, v_num=12]\n",
      "Validating:  25%|██▌       | 21/84 [00:30<01:31,  1.45s/it]\u001b[A\n",
      "Epoch 19:  88%|████████▊ | 440/501 [28:25<03:55,  3.87s/it, loss=0.431, v_num=12]\n",
      "Validating:  27%|██▋       | 23/84 [00:33<01:27,  1.44s/it]\u001b[A\n",
      "Epoch 19:  88%|████████▊ | 442/501 [28:27<03:47,  3.86s/it, loss=0.431, v_num=12]\n",
      "Validating:  30%|██▉       | 25/84 [00:36<01:25,  1.44s/it]\u001b[A\n",
      "Epoch 19:  89%|████████▊ | 444/501 [28:30<03:39,  3.84s/it, loss=0.431, v_num=12]\n",
      "Validating:  32%|███▏      | 27/84 [00:39<01:22,  1.44s/it]\u001b[A\n",
      "Epoch 19:  89%|████████▉ | 446/501 [28:33<03:30,  3.83s/it, loss=0.431, v_num=12]\n",
      "Validating:  35%|███▍      | 29/84 [00:41<01:19,  1.44s/it]\u001b[A\n",
      "Epoch 19:  89%|████████▉ | 448/501 [28:36<03:22,  3.82s/it, loss=0.431, v_num=12]\n",
      "Validating:  37%|███▋      | 31/84 [00:44<01:16,  1.44s/it]\u001b[A\n",
      "Epoch 19:  90%|████████▉ | 450/501 [28:39<03:14,  3.81s/it, loss=0.431, v_num=12]\n",
      "Validating:  39%|███▉      | 33/84 [00:47<01:13,  1.43s/it]\u001b[A\n",
      "Epoch 19:  90%|█████████ | 452/501 [28:42<03:06,  3.80s/it, loss=0.431, v_num=12]\n",
      "Validating:  42%|████▏     | 35/84 [00:50<01:10,  1.44s/it]\u001b[A\n",
      "Epoch 19:  91%|█████████ | 454/501 [28:45<02:58,  3.79s/it, loss=0.431, v_num=12]\n",
      "Validating:  44%|████▍     | 37/84 [00:53<01:08,  1.45s/it]\u001b[A\n",
      "Epoch 19:  91%|█████████ | 456/501 [28:48<02:50,  3.78s/it, loss=0.431, v_num=12]\n",
      "Validating:  46%|████▋     | 39/84 [00:56<01:05,  1.45s/it]\u001b[A\n",
      "Epoch 19:  91%|█████████▏| 458/501 [28:50<02:42,  3.77s/it, loss=0.431, v_num=12]\n",
      "Validating:  49%|████▉     | 41/84 [00:59<01:02,  1.45s/it]\u001b[A\n",
      "Epoch 19:  92%|█████████▏| 460/501 [28:53<02:34,  3.76s/it, loss=0.431, v_num=12]\n",
      "Validating:  51%|█████     | 43/84 [01:02<00:59,  1.45s/it]\u001b[A\n",
      "Epoch 19:  92%|█████████▏| 462/501 [28:56<02:26,  3.75s/it, loss=0.431, v_num=12]\n",
      "Validating:  54%|█████▎    | 45/84 [01:05<00:56,  1.45s/it]\u001b[A\n",
      "Epoch 19:  93%|█████████▎| 464/501 [28:59<02:18,  3.74s/it, loss=0.431, v_num=12]\n",
      "Validating:  56%|█████▌    | 47/84 [01:07<00:53,  1.45s/it]\u001b[A\n",
      "Epoch 19:  93%|█████████▎| 466/501 [29:02<02:10,  3.73s/it, loss=0.431, v_num=12]\n",
      "Validating:  58%|█████▊    | 49/84 [01:10<00:50,  1.44s/it]\u001b[A\n",
      "Epoch 19:  93%|█████████▎| 468/501 [29:05<02:02,  3.72s/it, loss=0.431, v_num=12]\n",
      "Validating:  61%|██████    | 51/84 [01:13<00:47,  1.44s/it]\u001b[A\n",
      "Epoch 19:  94%|█████████▍| 470/501 [29:08<01:55,  3.71s/it, loss=0.431, v_num=12]\n",
      "Validating:  63%|██████▎   | 53/84 [01:16<00:44,  1.44s/it]\u001b[A\n",
      "Epoch 19:  94%|█████████▍| 472/501 [29:11<01:47,  3.70s/it, loss=0.431, v_num=12]\n",
      "Validating:  65%|██████▌   | 55/84 [01:19<00:42,  1.45s/it]\u001b[A\n",
      "Epoch 19:  95%|█████████▍| 474/501 [29:14<01:39,  3.69s/it, loss=0.431, v_num=12]\n",
      "Validating:  68%|██████▊   | 57/84 [01:22<00:38,  1.44s/it]\u001b[A\n",
      "Epoch 19:  95%|█████████▌| 476/501 [29:16<01:32,  3.68s/it, loss=0.431, v_num=12]\n",
      "Validating:  70%|███████   | 59/84 [01:25<00:36,  1.45s/it]\u001b[A\n",
      "Epoch 19:  95%|█████████▌| 478/501 [29:19<01:24,  3.67s/it, loss=0.431, v_num=12]\n",
      "Validating:  73%|███████▎  | 61/84 [01:28<00:33,  1.44s/it]\u001b[A\n",
      "Epoch 19:  96%|█████████▌| 480/501 [29:22<01:16,  3.66s/it, loss=0.431, v_num=12]\n",
      "Validating:  75%|███████▌  | 63/84 [01:31<00:30,  1.45s/it]\u001b[A\n",
      "Epoch 19:  96%|█████████▌| 482/501 [29:25<01:09,  3.66s/it, loss=0.431, v_num=12]\n",
      "Validating:  77%|███████▋  | 65/84 [01:33<00:27,  1.44s/it]\u001b[A\n",
      "Epoch 19:  97%|█████████▋| 484/501 [29:28<01:01,  3.65s/it, loss=0.431, v_num=12]\n",
      "Validating:  80%|███████▉  | 67/84 [01:36<00:24,  1.44s/it]\u001b[A\n",
      "Epoch 19:  97%|█████████▋| 486/501 [29:31<00:54,  3.64s/it, loss=0.431, v_num=12]\n",
      "Validating:  82%|████████▏ | 69/84 [01:39<00:21,  1.44s/it]\u001b[A\n",
      "Epoch 19:  97%|█████████▋| 488/501 [29:34<00:47,  3.63s/it, loss=0.431, v_num=12]\n",
      "Validating:  85%|████████▍ | 71/84 [01:42<00:18,  1.45s/it]\u001b[A\n",
      "Epoch 19:  98%|█████████▊| 490/501 [29:37<00:39,  3.62s/it, loss=0.431, v_num=12]\n",
      "Validating:  87%|████████▋ | 73/84 [01:45<00:15,  1.45s/it]\u001b[A\n",
      "Epoch 19:  98%|█████████▊| 492/501 [29:40<00:32,  3.61s/it, loss=0.431, v_num=12]\n",
      "Validating:  89%|████████▉ | 75/84 [01:48<00:12,  1.44s/it]\u001b[A\n",
      "Epoch 19:  99%|█████████▊| 494/501 [29:42<00:25,  3.60s/it, loss=0.431, v_num=12]\n",
      "Validating:  92%|█████████▏| 77/84 [01:51<00:10,  1.44s/it]\u001b[A\n",
      "Epoch 19:  99%|█████████▉| 496/501 [29:45<00:17,  3.59s/it, loss=0.431, v_num=12]\n",
      "Validating:  94%|█████████▍| 79/84 [01:54<00:07,  1.43s/it]\u001b[A\n",
      "Epoch 19:  99%|█████████▉| 498/501 [29:48<00:10,  3.58s/it, loss=0.431, v_num=12]\n",
      "Validating:  96%|█████████▋| 81/84 [01:56<00:04,  1.44s/it]\u001b[A\n",
      "Epoch 19: 100%|█████████▉| 500/501 [29:51<00:03,  3.58s/it, loss=0.431, v_num=12]\n",
      "Validating:  99%|█████████▉| 83/84 [01:59<00:01,  1.44s/it]\u001b[A\n",
      "Epoch 19: 100%|██████████| 501/501 [29:53<00:00,  3.57s/it, loss=0.431, v_num=12]\n",
      "Epoch 19: 100%|██████████| 501/501 [29:53<00:00,  3.57s/it, loss=0.431, v_num=12]\n"
     ]
    }
   ],
   "source": [
    "trainer.fit(model, dataset.train_dataloader(), dataset.val_dataloader())\n",
    "trainer.save_checkpoint(\"models/node_improved_model_2-sgd-fin.ckpt\")"
   ]
  },
  {
   "cell_type": "markdown",
   "id": "3dd4f3c0-8955-4a40-b597-b9b05878fd16",
   "metadata": {},
   "source": [
    "## Evaluate Model"
   ]
  },
  {
   "cell_type": "code",
   "execution_count": 27,
   "id": "30b54506-e652-4e5b-bb0c-569dafcbbdb0",
   "metadata": {},
   "outputs": [],
   "source": [
    "def validate(model, val_loader):\n",
    "    labels = []\n",
    "    pred_list = []\n",
    "    for x, y in val_loader:\n",
    "        #x = x.to(device)\n",
    "        preds = model.predict(x)\n",
    "        labels += list(y.detach().cpu().numpy())\n",
    "        pred_list += list(preds.detach().cpu().numpy())\n",
    "    return labels, pred_list"
   ]
  },
  {
   "cell_type": "code",
   "execution_count": 28,
   "id": "3a4099ea-f351-45e2-afdf-bec68e00d792",
   "metadata": {},
   "outputs": [],
   "source": [
    "def analysis(labels, pred_list, threshold : float = 0.5):\n",
    "    results = {}\n",
    "    results['fpr'], results['tpr'], results['thresholds'] = metrics.roc_curve(labels, pred_list)\n",
    "    results['auc'] = metrics.auc(results['fpr'], results['tpr'])\n",
    "    \n",
    "    pred_class_list = []\n",
    "    for logit in pred_list:\n",
    "        if logit >= threshold:\n",
    "            pred_class = 1\n",
    "        else:\n",
    "            pred_class = 0\n",
    "        pred_class_list.append(pred_class)\n",
    "    \n",
    "    prfs = metrics.precision_recall_fscore_support(labels, pred_class_list)\n",
    "    results['precision'], results['recall'], results['fscore'], results['support'] = prfs\n",
    "    \n",
    "    results['confusion_matrix'] = metrics.confusion_matrix(labels, pred_class_list)\n",
    "    \n",
    "    return results\n",
    "\n",
    "def plot_confusion_matrix(confusion_matrix):\n",
    "    \n",
    "    ax = plt.subplot()\n",
    "    sns.heatmap(confusion_matrix, annot=True, fmt='g', ax=ax);  #annot=True to annotate cells, ftm='g' to disable scientific notation\n",
    "\n",
    "    # labels, title and ticks\n",
    "    ax.set_xlabel('Predicted labels');ax.set_ylabel('True labels'); \n",
    "    ax.set_title('Confusion Matrix'); \n",
    "    ax.xaxis.set_ticklabels(['Normal', 'Nodule/Mass']); ax.yaxis.set_ticklabels(['Normal', 'Nodule/Mass']);\n"
   ]
  },
  {
   "cell_type": "markdown",
   "id": "04bf9182-8a4a-427f-80dd-c6c96e0b3814",
   "metadata": {},
   "source": [
    "EPOCH FIN"
   ]
  },
  {
   "cell_type": "code",
   "execution_count": 46,
   "id": "5743eb58-181d-44ea-bb45-bbaf67afd4ae",
   "metadata": {},
   "outputs": [],
   "source": [
    "sgd_br_model = Classifier()"
   ]
  },
  {
   "cell_type": "code",
   "execution_count": 139,
   "id": "6cfab347-97e8-4166-a29c-e54171fd11ce",
   "metadata": {},
   "outputs": [],
   "source": [
    "sgd_br_model = sgd_br_model.load_from_checkpoint(checkpoint_path=\"models/node_improved_model_2-sgd-fin.ckpt\")"
   ]
  },
  {
   "cell_type": "code",
   "execution_count": 140,
   "id": "bdceb3ef-9b0d-4068-b9b3-ca20462f81bf",
   "metadata": {},
   "outputs": [],
   "source": [
    "labels, pred_list = validate(sgd_br_model, dataset.val_dataloader())"
   ]
  },
  {
   "cell_type": "code",
   "execution_count": 141,
   "id": "14a05353-dea9-40db-9754-954e92873790",
   "metadata": {},
   "outputs": [],
   "source": [
    "results = analysis(labels, pred_list, threshold=0.09)"
   ]
  },
  {
   "cell_type": "code",
   "execution_count": 142,
   "id": "9dacde3d-fa0d-4757-ac5c-f17606672f9a",
   "metadata": {},
   "outputs": [
    {
     "data": {
      "text/plain": [
       "0.8083456661808843"
      ]
     },
     "execution_count": 142,
     "metadata": {},
     "output_type": "execute_result"
    }
   ],
   "source": [
    "results['auc']"
   ]
  },
  {
   "cell_type": "code",
   "execution_count": 122,
   "id": "0ff423ee-12e5-4ce4-a268-bc6cb4097209",
   "metadata": {},
   "outputs": [
    {
     "data": {
      "text/plain": [
       "0.8174889192659791"
      ]
     },
     "execution_count": 122,
     "metadata": {},
     "output_type": "execute_result"
    }
   ],
   "source": [
    "results['auc']"
   ]
  },
  {
   "cell_type": "code",
   "execution_count": 123,
   "id": "ca931710-1e69-40b1-b806-58c7b0300bd5",
   "metadata": {
    "tags": []
   },
   "outputs": [
    {
     "data": {
      "image/png": "[encoded data removed]",
      "text/plain": [
       "<Figure size 432x288 with 2 Axes>"
      ]
     },
     "metadata": {
      "needs_background": "light"
     },
     "output_type": "display_data"
    }
   ],
   "source": [
    "plot_confusion_matrix(results['confusion_matrix'])"
   ]
  },
  {
   "cell_type": "code",
   "execution_count": 131,
   "id": "1cced18b-1424-4634-8c86-473796933912",
   "metadata": {},
   "outputs": [
    {
     "data": {
      "text/plain": [
       "0.8174889192659791"
      ]
     },
     "execution_count": 131,
     "metadata": {},
     "output_type": "execute_result"
    }
   ],
   "source": [
    "results['auc']"
   ]
  },
  {
   "cell_type": "code",
   "execution_count": 128,
   "id": "be4d5c7e-24d3-4b75-b8a9-793cc9070dfe",
   "metadata": {},
   "outputs": [
    {
     "data": {
      "text/plain": [
       "array([0.97902622, 0.17293233])"
      ]
     },
     "execution_count": 128,
     "metadata": {},
     "output_type": "execute_result"
    }
   ],
   "source": [
    "results['precision']"
   ]
  },
  {
   "cell_type": "code",
   "execution_count": 129,
   "id": "c9d56adc-a767-4b66-a1dc-8af4619bc7e9",
   "metadata": {},
   "outputs": [
    {
     "data": {
      "text/plain": [
       "array([0.70382337, 0.8041958 ])"
      ]
     },
     "execution_count": 129,
     "metadata": {},
     "output_type": "execute_result"
    }
   ],
   "source": [
    "results['recall']"
   ]
  },
  {
   "cell_type": "code",
   "execution_count": 130,
   "id": "c06aca90-48f5-446d-b243-8fcb2b68e1c9",
   "metadata": {},
   "outputs": [
    {
     "data": {
      "text/plain": [
       "array([0.81892231, 0.28465347])"
      ]
     },
     "execution_count": 130,
     "metadata": {},
     "output_type": "execute_result"
    }
   ],
   "source": [
    "results['fscore']"
   ]
  },
  {
   "cell_type": "code",
   "execution_count": 45,
   "id": "e05e6a30-f2da-4dc1-a213-e2bc000f661a",
   "metadata": {},
   "outputs": [
    {
     "data": {
      "text/plain": [
       "array([1857,  143])"
      ]
     },
     "execution_count": 45,
     "metadata": {},
     "output_type": "execute_result"
    }
   ],
   "source": [
    "results['support']"
   ]
  },
  {
   "cell_type": "code",
   "execution_count": 55,
   "id": "413456e7-8618-44fa-a6ab-fbb67f878a6c",
   "metadata": {},
   "outputs": [],
   "source": [
    "base_fpr = np.load('evaluation/baseline_fpr.npy')\n",
    "base_tpr = np.load('evaluation/baseline_tpr.npy')"
   ]
  },
  {
   "cell_type": "code",
   "execution_count": 127,
   "id": "73a1dace-9594-4836-9e81-7114293d519f",
   "metadata": {},
   "outputs": [
    {
     "data": {
      "text/plain": [
       "<matplotlib.legend.Legend at 0x15edea640>"
      ]
     },
     "execution_count": 127,
     "metadata": {},
     "output_type": "execute_result"
    },
    {
     "data": {
      "image/png": "[encoded data removed]",
      "text/plain": [
       "<Figure size 432x288 with 1 Axes>"
      ]
     },
     "metadata": {
      "needs_background": "light"
     },
     "output_type": "display_data"
    }
   ],
   "source": [
    "plt.plot(results['fpr'], results['tpr'], label='SGD (br)')\n",
    "#plt.plot(sgd_nob_fpr, sgd_nob_tpr, label='SGD (no br)')\n",
    "#plt.plot(adam_fpr, adam_tpr, label='Adam')\n",
    "plt.plot(base_fpr, base_tpr, label='Baseline')\n",
    "\n",
    "plt.ylabel('True Positive Rate')\n",
    "plt.xlabel('False Positive Rate')\n",
    "plt.title('ROC Curve')\n",
    "plt.legend()"
   ]
  },
  {
   "cell_type": "code",
   "execution_count": 53,
   "id": "04402356-7909-4350-8965-86177ebb479e",
   "metadata": {},
   "outputs": [
    {
     "data": {
      "text/plain": [
       "<matplotlib.legend.Legend at 0x16e7b5250>"
      ]
     },
     "execution_count": 53,
     "metadata": {},
     "output_type": "execute_result"
    },
    {
     "data": {
      "image/png": "[encoded data removed]",
      "text/plain": [
       "<Figure size 432x288 with 1 Axes>"
      ]
     },
     "metadata": {
      "needs_background": "light"
     },
     "output_type": "display_data"
    }
   ],
   "source": [
    "plt.plot(base_fpr, base_tpr, label='Baseline')\n",
    "plt.plot(sgd_nob_fpr, sgd_nob_tpr, label='SGD (no br)')\n",
    "\n",
    "#plt.plot(adam_fpr, adam_tpr, label='Adam')\n",
    "plt.ylabel('True Positive Rate')\n",
    "plt.xlabel('False Positive Rate')\n",
    "plt.title('ROC Curve')\n",
    "plt.legend()"
   ]
  },
  {
   "cell_type": "code",
   "execution_count": 56,
   "id": "82cb6f14-1e20-4f86-b5ea-5d898f10c4b5",
   "metadata": {},
   "outputs": [
    {
     "data": {
      "image/png": "[encoded data removed]",
      "text/plain": [
       "<Figure size 432x288 with 1 Axes>"
      ]
     },
     "metadata": {
      "needs_background": "light"
     },
     "output_type": "display_data"
    }
   ],
   "source": [
    "roc_curve = metrics.RocCurveDisplay(fpr=base_fpr, tpr=base_tpr)"
   ]
  },
  {
   "cell_type": "code",
   "execution_count": 67,
   "id": "fbe043de-54af-4bf3-b26a-09f7757d7e71",
   "metadata": {},
   "outputs": [
    {
     "data": {
      "text/plain": [
       "<matplotlib.legend.Legend at 0x15f48bca0>"
      ]
     },
     "execution_count": 67,
     "metadata": {},
     "output_type": "execute_result"
    },
    {
     "data": {
      "image/png": "[encoded data removed]",
      "text/plain": [
       "<Figure size 432x288 with 1 Axes>"
      ]
     },
     "metadata": {
      "needs_background": "light"
     },
     "output_type": "display_data"
    }
   ],
   "source": [
    "plt.plot(base_fpr, base_tpr, label='Baseline')\n",
    "plt.plot(results['fpr'], results['tpr'], label='SGD')\n",
    "plt.ylabel('True Positive Rate')\n",
    "plt.xlabel('False Positive Rate')\n",
    "plt.title('ROC Curve')\n",
    "plt.legend()"
   ]
  },
  {
   "cell_type": "code",
   "execution_count": 57,
   "id": "eb7635cd-31a3-4b5f-8426-c72fef30b33f",
   "metadata": {},
   "outputs": [
    {
     "data": {
      "image/png": "[encoded data removed]",
      "text/plain": [
       "<Figure size 432x288 with 1 Axes>"
      ]
     },
     "metadata": {
      "needs_background": "light"
     },
     "output_type": "display_data"
    },
    {
     "data": {
      "image/png": "[encoded data removed]",
      "text/plain": [
       "<Figure size 432x288 with 1 Axes>"
      ]
     },
     "metadata": {
      "needs_background": "light"
     },
     "output_type": "display_data"
    }
   ],
   "source": [
    "roc_curve = metrics.RocCurveDisplay(fpr=base_fpr, tpr=base_tpr)\n",
    "roc_curve.plot()\n",
    "roc_curve = metrics.RocCurveDisplay(fpr=results['fpr'], tpr=results['tpr'])\n",
    "roc_curve.plot()\n",
    "plt.show()"
   ]
  },
  {
   "cell_type": "code",
   "execution_count": 47,
   "id": "bd4e900c-4f83-467c-8428-ae398a11c6a7",
   "metadata": {
    "tags": []
   },
   "outputs": [
    {
     "data": {
      "image/png": "[encoded data removed]",
      "text/plain": [
       "<Figure size 432x288 with 2 Axes>"
      ]
     },
     "metadata": {
      "needs_background": "light"
     },
     "output_type": "display_data"
    }
   ],
   "source": [
    "plot_confusion_matrix(results['confusion_matrix'])"
   ]
  },
  {
   "cell_type": "code",
   "execution_count": 72,
   "id": "a563fa1c-92d0-4d09-aaa1-b8dd7147d1f0",
   "metadata": {},
   "outputs": [
    {
     "data": {
      "image/png": "[encoded data removed]",
      "text/plain": [
       "<Figure size 432x288 with 2 Axes>"
      ]
     },
     "metadata": {
      "needs_background": "light"
     },
     "output_type": "display_data"
    }
   ],
   "source": [
    "results = analysis(labels, pred_list, threshold=0.09)\n",
    "plot_confusion_matrix(results['confusion_matrix'])"
   ]
  },
  {
   "cell_type": "markdown",
   "id": "fed83ced-5f31-4f18-bc30-7cb6cdfde3df",
   "metadata": {},
   "source": [
    "EPOCH 14"
   ]
  },
  {
   "cell_type": "code",
   "execution_count": 28,
   "id": "ad190314-3be4-48da-8820-9ea7abb45a14",
   "metadata": {},
   "outputs": [],
   "source": [
    "labels, pred_list = validate(model, dataset.val_dataloader())"
   ]
  },
  {
   "cell_type": "code",
   "execution_count": 29,
   "id": "ba33b54f-2aff-4a17-9d2a-a565312b7e42",
   "metadata": {},
   "outputs": [],
   "source": [
    "results = analysis(labels, pred_list)"
   ]
  },
  {
   "cell_type": "code",
   "execution_count": 30,
   "id": "d34f04d4-4399-4725-9262-e09d8f396726",
   "metadata": {},
   "outputs": [
    {
     "data": {
      "text/plain": [
       "0.8102473724444645"
      ]
     },
     "execution_count": 30,
     "metadata": {},
     "output_type": "execute_result"
    }
   ],
   "source": [
    "results['auc']"
   ]
  },
  {
   "cell_type": "code",
   "execution_count": 31,
   "id": "d7e83c6c-7b18-438b-bf2b-3fff676db7fa",
   "metadata": {},
   "outputs": [
    {
     "data": {
      "text/plain": [
       "array([0.95840979, 0.20547945])"
      ]
     },
     "execution_count": 31,
     "metadata": {},
     "output_type": "execute_result"
    }
   ],
   "source": [
    "results['precision']"
   ]
  },
  {
   "cell_type": "code",
   "execution_count": 32,
   "id": "9aae9dee-bd76-44a2-82fb-951a39ba02c2",
   "metadata": {},
   "outputs": [
    {
     "data": {
      "text/plain": [
       "array([0.84383414, 0.52447552])"
      ]
     },
     "execution_count": 32,
     "metadata": {},
     "output_type": "execute_result"
    }
   ],
   "source": [
    "results['recall']"
   ]
  },
  {
   "cell_type": "code",
   "execution_count": 33,
   "id": "b2d5c905-d8d1-4ee8-835e-eba694717e18",
   "metadata": {},
   "outputs": [
    {
     "data": {
      "text/plain": [
       "array([0.89747995, 0.29527559])"
      ]
     },
     "execution_count": 33,
     "metadata": {},
     "output_type": "execute_result"
    }
   ],
   "source": [
    "results['fscore']"
   ]
  },
  {
   "cell_type": "code",
   "execution_count": 34,
   "id": "90480771-3f40-49f9-b821-52bf9056d16e",
   "metadata": {},
   "outputs": [
    {
     "data": {
      "text/plain": [
       "array([1857,  143])"
      ]
     },
     "execution_count": 34,
     "metadata": {},
     "output_type": "execute_result"
    }
   ],
   "source": [
    "results['support']"
   ]
  },
  {
   "cell_type": "code",
   "execution_count": 35,
   "id": "e59cf561-6ac1-41cd-be1b-66608eb9a4c1",
   "metadata": {},
   "outputs": [
    {
     "data": {
      "image/png": "[encoded data removed]",
      "text/plain": [
       "<Figure size 432x288 with 1 Axes>"
      ]
     },
     "metadata": {
      "needs_background": "light"
     },
     "output_type": "display_data"
    }
   ],
   "source": [
    "roc_curve = metrics.RocCurveDisplay(fpr=results['fpr'], tpr=results['tpr'])\n",
    "roc_curve.plot()\n",
    "plt.show()"
   ]
  },
  {
   "cell_type": "code",
   "execution_count": 36,
   "id": "a08b9546-c4ea-493c-a076-bb521cc6207a",
   "metadata": {
    "tags": []
   },
   "outputs": [
    {
     "data": {
      "image/png": "[encoded data removed]",
      "text/plain": [
       "<Figure size 432x288 with 2 Axes>"
      ]
     },
     "metadata": {
      "needs_background": "light"
     },
     "output_type": "display_data"
    }
   ],
   "source": [
    "plot_confusion_matrix(results['confusion_matrix'])"
   ]
  },
  {
   "cell_type": "markdown",
   "id": "d6e7eff5-223a-43f8-8c9c-27e209cd029d",
   "metadata": {},
   "source": [
    "EPOCH 10"
   ]
  },
  {
   "cell_type": "code",
   "execution_count": 17,
   "id": "5a9b23d4-22be-4a53-a5ef-8b0ab02b0974",
   "metadata": {},
   "outputs": [],
   "source": [
    "labels, pred_list = validate(model, dataset.val_dataloader())"
   ]
  },
  {
   "cell_type": "code",
   "execution_count": 18,
   "id": "929a5391-9d59-48c0-8f2a-f8b5ecda6fb8",
   "metadata": {},
   "outputs": [],
   "source": [
    "results = analysis(labels, pred_list)"
   ]
  },
  {
   "cell_type": "code",
   "execution_count": 19,
   "id": "be18860c-fb35-471c-a847-1bdf72832872",
   "metadata": {},
   "outputs": [
    {
     "data": {
      "text/plain": [
       "0.7985885950344754"
      ]
     },
     "execution_count": 19,
     "metadata": {},
     "output_type": "execute_result"
    }
   ],
   "source": [
    "results['auc']"
   ]
  },
  {
   "cell_type": "code",
   "execution_count": 20,
   "id": "73f1d7cf-f762-4fce-b5b4-548909bcafbe",
   "metadata": {},
   "outputs": [
    {
     "data": {
      "text/plain": [
       "array([0.97928749, 0.14880202])"
      ]
     },
     "execution_count": 20,
     "metadata": {},
     "output_type": "execute_result"
    }
   ],
   "source": [
    "results['precision']"
   ]
  },
  {
   "cell_type": "code",
   "execution_count": 21,
   "id": "6aaad216-db7a-426b-901c-d7fc5dd968fb",
   "metadata": {},
   "outputs": [
    {
     "data": {
      "text/plain": [
       "array([0.6365105 , 0.82517483])"
      ]
     },
     "execution_count": 21,
     "metadata": {},
     "output_type": "execute_result"
    }
   ],
   "source": [
    "results['recall']"
   ]
  },
  {
   "cell_type": "code",
   "execution_count": 22,
   "id": "3a4adaf1-0c2f-470c-becf-ef3d3b3c370d",
   "metadata": {},
   "outputs": [
    {
     "data": {
      "text/plain": [
       "array([0.77154047, 0.25213675])"
      ]
     },
     "execution_count": 22,
     "metadata": {},
     "output_type": "execute_result"
    }
   ],
   "source": [
    "results['fscore']"
   ]
  },
  {
   "cell_type": "code",
   "execution_count": 23,
   "id": "84d5ea8e-f8a1-42af-a3d9-c39f88b68985",
   "metadata": {},
   "outputs": [
    {
     "data": {
      "text/plain": [
       "array([1857,  143])"
      ]
     },
     "execution_count": 23,
     "metadata": {},
     "output_type": "execute_result"
    }
   ],
   "source": [
    "results['support']"
   ]
  },
  {
   "cell_type": "code",
   "execution_count": 24,
   "id": "37960866-bcae-443d-89a6-547c2347e1e9",
   "metadata": {},
   "outputs": [
    {
     "data": {
      "image/png": "[encoded data removed]",
      "text/plain": [
       "<Figure size 432x288 with 1 Axes>"
      ]
     },
     "metadata": {
      "needs_background": "light"
     },
     "output_type": "display_data"
    }
   ],
   "source": [
    "roc_curve = metrics.RocCurveDisplay(fpr=results['fpr'], tpr=results['tpr'])\n",
    "roc_curve.plot()\n",
    "plt.show()"
   ]
  },
  {
   "cell_type": "code",
   "execution_count": 25,
   "id": "648c9752-0a3f-4ed8-af1e-84bb803a2811",
   "metadata": {
    "tags": []
   },
   "outputs": [
    {
     "data": {
      "image/png": "[encoded data removed]",
      "text/plain": [
       "<Figure size 432x288 with 2 Axes>"
      ]
     },
     "metadata": {
      "needs_background": "light"
     },
     "output_type": "display_data"
    }
   ],
   "source": [
    "plot_confusion_matrix(results['confusion_matrix'])"
   ]
  },
  {
   "cell_type": "markdown",
   "id": "b5de81b9-6e0f-4960-871d-7fd71aff276d",
   "metadata": {},
   "source": [
    "# Optimise"
   ]
  },
  {
   "cell_type": "code",
   "execution_count": 12,
   "id": "f9aba661-05a0-4b5c-9cf9-74a8c7161d19",
   "metadata": {},
   "outputs": [
    {
     "data": {
      "text/html": [
       "<div>\n",
       "<style scoped>\n",
       "    .dataframe tbody tr th:only-of-type {\n",
       "        vertical-align: middle;\n",
       "    }\n",
       "\n",
       "    .dataframe tbody tr th {\n",
       "        vertical-align: top;\n",
       "    }\n",
       "\n",
       "    .dataframe thead th {\n",
       "        text-align: right;\n",
       "    }\n",
       "</style>\n",
       "<table border=\"1\" class=\"dataframe\">\n",
       "  <thead>\n",
       "    <tr style=\"text-align: right;\">\n",
       "      <th></th>\n",
       "      <th></th>\n",
       "      <th>Unnamed: 0</th>\n",
       "      <th>image_id</th>\n",
       "    </tr>\n",
       "    <tr>\n",
       "      <th>Nodule/Mass</th>\n",
       "      <th>Abnormal</th>\n",
       "      <th></th>\n",
       "      <th></th>\n",
       "    </tr>\n",
       "  </thead>\n",
       "  <tbody>\n",
       "    <tr>\n",
       "      <th rowspan=\"2\" valign=\"top\">0</th>\n",
       "      <th>0</th>\n",
       "      <td>7045</td>\n",
       "      <td>7045</td>\n",
       "    </tr>\n",
       "    <tr>\n",
       "      <th>1</th>\n",
       "      <td>2418</td>\n",
       "      <td>2418</td>\n",
       "    </tr>\n",
       "    <tr>\n",
       "      <th>1</th>\n",
       "      <th>1</th>\n",
       "      <td>537</td>\n",
       "      <td>537</td>\n",
       "    </tr>\n",
       "  </tbody>\n",
       "</table>\n",
       "</div>"
      ],
      "text/plain": [
       "                      Unnamed: 0  image_id\n",
       "Nodule/Mass Abnormal                      \n",
       "0           0               7045      7045\n",
       "            1               2418      2418\n",
       "1           1                537       537"
      ]
     },
     "execution_count": 12,
     "metadata": {},
     "output_type": "execute_result"
    }
   ],
   "source": [
    "dataset.train_data.dataset.groupby(['Nodule/Mass', 'Abnormal']).count()"
   ]
  },
  {
   "cell_type": "markdown",
   "id": "eeb863d6-a378-43e5-95b2-c80d95661be6",
   "metadata": {},
   "source": [
    "## Experiments\n",
    "\n",
    "### Brightness"
   ]
  },
  {
   "cell_type": "code",
   "execution_count": 61,
   "id": "347410df-3931-4556-9c48-d60dafee5e09",
   "metadata": {},
   "outputs": [],
   "source": [
    "def get_brightness_means(img_dataset: DataModule):\n",
    "    \n",
    "    brightness_means = []\n",
    "    for sample in img_dataset:\n",
    "        img = sample[0]\n",
    "        brightness_means.append(img.mean())\n",
    "        \n",
    "    return brightness_means"
   ]
  },
  {
   "cell_type": "code",
   "execution_count": 62,
   "id": "c5fda599-9f44-437f-8f40-b3584576a77b",
   "metadata": {},
   "outputs": [],
   "source": [
    "means = get_brightness_means(dataset.train_data)"
   ]
  },
  {
   "cell_type": "code",
   "execution_count": 63,
   "id": "d74c321f-b4cf-4e9a-aefd-50ed8780372c",
   "metadata": {},
   "outputs": [
    {
     "data": {
      "text/plain": [
       "<AxesSubplot:ylabel='Count'>"
      ]
     },
     "execution_count": 63,
     "metadata": {},
     "output_type": "execute_result"
    },
    {
     "data": {
      "image/png": "[encoded data removed]",
      "text/plain": [
       "<Figure size 432x288 with 1 Axes>"
      ]
     },
     "metadata": {
      "needs_background": "light"
     },
     "output_type": "display_data"
    }
   ],
   "source": [
    "sns.histplot(np.array(means))"
   ]
  },
  {
   "cell_type": "code",
   "execution_count": 202,
   "id": "ad5f13f3-0d59-4701-b1aa-56e19a70c42a",
   "metadata": {},
   "outputs": [
    {
     "data": {
      "text/plain": [
       "0.10448302"
      ]
     },
     "execution_count": 202,
     "metadata": {},
     "output_type": "execute_result"
    }
   ],
   "source": [
    "np.std(means)"
   ]
  },
  {
   "cell_type": "code",
   "execution_count": 66,
   "id": "130373ce-8d53-4e6e-b4b9-4f5dbd6ff76e",
   "metadata": {},
   "outputs": [
    {
     "data": {
      "text/plain": [
       "0.5407106"
      ]
     },
     "execution_count": 66,
     "metadata": {},
     "output_type": "execute_result"
    }
   ],
   "source": [
    "np.mean(means)"
   ]
  },
  {
   "cell_type": "code",
   "execution_count": 247,
   "id": "7c38f430-5f82-4063-888e-781c824e0818",
   "metadata": {},
   "outputs": [],
   "source": [
    "img_num = 0"
   ]
  },
  {
   "cell_type": "code",
   "execution_count": 248,
   "id": "ba7c1e7a-81ea-4287-82bb-69c0ecbc144e",
   "metadata": {},
   "outputs": [
    {
     "data": {
      "text/plain": [
       "<matplotlib.image.AxesImage at 0x16bdb0d90>"
      ]
     },
     "execution_count": 248,
     "metadata": {},
     "output_type": "execute_result"
    },
    {
     "data": {
      "image/png": "[encoded data removed]",
      "text/plain": [
       "<Figure size 432x288 with 1 Axes>"
      ]
     },
     "metadata": {
      "needs_background": "light"
     },
     "output_type": "display_data"
    }
   ],
   "source": [
    "img_path = os.path.join('imgs/', dataset.train_data.dataset['image_id'].iloc[img_num] + '.png')\n",
    "image = Image.open(img_path)\n",
    "plt.imshow(image, cmap='gray', vmin=0, vmax=255)"
   ]
  },
  {
   "cell_type": "code",
   "execution_count": 138,
   "id": "0e2182f9-bc90-4885-bd79-d86943acc187",
   "metadata": {},
   "outputs": [
    {
     "data": {
      "text/plain": [
       "numpy.ndarray"
      ]
     },
     "execution_count": 138,
     "metadata": {},
     "output_type": "execute_result"
    }
   ],
   "source": [
    "type(results['confusion_matrix'])"
   ]
  },
  {
   "cell_type": "code",
   "execution_count": 265,
   "id": "ccdedb9e-1094-4961-9a21-316dcd12ff46",
   "metadata": {},
   "outputs": [
    {
     "data": {
      "text/plain": [
       "<matplotlib.image.AxesImage at 0x16c317070>"
      ]
     },
     "execution_count": 265,
     "metadata": {},
     "output_type": "execute_result"
    },
    {
     "data": {
      "image/png": "[encoded data removed]",
      "text/plain": [
       "<Figure size 432x288 with 1 Axes>"
      ]
     },
     "metadata": {
      "needs_background": "light"
     },
     "output_type": "display_data"
    }
   ],
   "source": [
    "plt.imshow(dataset.train_data[img_num][0].squeeze(), cmap='gray', vmin=-1, vmax=1)"
   ]
  },
  {
   "cell_type": "code",
   "execution_count": 181,
   "id": "32868b9b-bc5e-4770-bef5-d031e1eb2c18",
   "metadata": {},
   "outputs": [],
   "source": [
    "img_num += 1"
   ]
  },
  {
   "cell_type": "markdown",
   "id": "145a3456-c334-4187-ad8f-bdfc7f17ca37",
   "metadata": {},
   "source": [
    "## Evaluation\n",
    "\n",
    "- ROC Curve.\n",
    "- Thresholding Plot (histogram of prediction probability) compare Nodule/Mass label vs Normal label\n",
    "- Threshold choice w/ consideration of business problem"
   ]
  },
  {
   "cell_type": "code",
   "execution_count": null,
   "id": "01e7c430-56d8-4dac-903c-6a4755f26b79",
   "metadata": {},
   "outputs": [],
   "source": []
  }
 ],
 "metadata": {
  "kernelspec": {
   "display_name": "Python [conda env:pytorch-lightning]",
   "language": "python",
   "name": "conda-env-pytorch-lightning-py"
  },
  "language_info": {
   "codemirror_mode": {
    "name": "ipython",
    "version": 3
   },
   "file_extension": ".py",
   "mimetype": "text/x-python",
   "name": "python",
   "nbconvert_exporter": "python",
   "pygments_lexer": "ipython3",
   "version": "3.9.6"
  }
 },
 "nbformat": 4,
 "nbformat_minor": 5
}
